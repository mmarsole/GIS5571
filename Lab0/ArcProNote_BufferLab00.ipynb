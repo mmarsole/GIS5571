{
 "cells": [
  {
   "cell_type": "code",
   "execution_count": 2,
   "metadata": {},
   "outputs": [
    {
     "name": "stdout",
     "output_type": "stream",
     "text": [
      "Collecting package metadata (current_repodata.json): ...working... done\n",
      "Solving environment: ...working... failed with initial frozen solve. Retrying with flexible solve.\n",
      "Collecting package metadata (repodata.json): ...working... done\n",
      "Solving environment: ...working... failed with initial frozen solve. Retrying with flexible solve.\n"
     ]
    },
    {
     "name": "stderr",
     "output_type": "stream",
     "text": [
      "\n",
      "PackagesNotFoundError: The following packages are not available from current channels:\n",
      "\n",
      "  - arcpy\n",
      "\n",
      "Current channels:\n",
      "\n",
      "  - https://repo.anaconda.com/pkgs/main/win-64\n",
      "  - https://repo.anaconda.com/pkgs/main/noarch\n",
      "  - https://repo.anaconda.com/pkgs/r/win-64\n",
      "  - https://repo.anaconda.com/pkgs/r/noarch\n",
      "  - https://repo.anaconda.com/pkgs/msys2/win-64\n",
      "  - https://repo.anaconda.com/pkgs/msys2/noarch\n",
      "\n",
      "To search for alternate channels that may provide the conda package you're\n",
      "looking for, navigate to\n",
      "\n",
      "    https://anaconda.org\n",
      "\n",
      "and use the search bar at the top of the page.\n",
      "\n",
      "\n"
     ]
    }
   ],
   "source": [
    "!conda install arcpy"
   ]
  },
  {
   "cell_type": "code",
   "execution_count": 1,
   "metadata": {},
   "outputs": [
    {
     "ename": "ModuleNotFoundError",
     "evalue": "No module named 'arcpy'",
     "output_type": "error",
     "traceback": [
      "\u001b[1;31m----------------------------------------------------------\u001b[0m",
      "\u001b[1;31mModuleNotFoundError\u001b[0m      Traceback (most recent call last)",
      "\u001b[1;32m~\\AppData\\Local\\Temp/ipykernel_10104/3709015372.py\u001b[0m in \u001b[0;36m<module>\u001b[1;34m\u001b[0m\n\u001b[1;32m----> 1\u001b[1;33m \u001b[1;32mimport\u001b[0m \u001b[0marcpy\u001b[0m\u001b[1;33m\u001b[0m\u001b[1;33m\u001b[0m\u001b[0m\n\u001b[0m",
      "\u001b[1;31mModuleNotFoundError\u001b[0m: No module named 'arcpy'"
     ]
    }
   ],
   "source": [
    "import arcpy"
   ]
  },
  {
   "cell_type": "markdown",
   "metadata": {},
   "source": [
    "### Buffer Data \n",
    "(already imported to my current project, so no need to call it via notebooks)"
   ]
  },
  {
   "cell_type": "code",
   "execution_count": 2,
   "metadata": {
    "scrolled": true
   },
   "outputs": [
    {
     "name": "stdout",
     "output_type": "stream",
     "text": [
      "Help on function Buffer in module arcpy.analysis:\n",
      "\n",
      "Buffer(in_features=None, out_feature_class=None, buffer_distance_or_field=None, line_side=None, line_end_type=None, dissolve_option=None, dissolve_field=None, method=None)\n",
      "    Buffer_analysis(in_features, out_feature_class, buffer_distance_or_field, {line_side}, {line_end_type}, {dissolve_option}, {dissolve_field;dissolve_field...}, {method})\n",
      "    \n",
      "       Creates buffer polygons around input features to a specified distance.\n",
      "    \n",
      "    INPUTS:\n",
      "     in_features (Feature Layer):\n",
      "         The input point, line, or polygon features to be buffered.\n",
      "     buffer_distance_or_field (Linear Unit / Field):\n",
      "         The distance around the input features that will be buffered.\n",
      "         Distances can be provided as either a value representing a linear\n",
      "         distance or as a field from the input features that contains the\n",
      "         distance to buffer each feature.If linear units are not specified or\n",
      "         are entered as Unknown, the\n",
      "         linear unit of the input features' spatial reference is used.When\n",
      "         specifying a distance, if the desired linear unit has two words,\n",
      "         such as Decimal Degrees, combine the two words into one (for example,\n",
      "         20 DecimalDegrees).\n",
      "     line_side {String}:\n",
      "         Specifies the sides of the input features that will be buffered.\n",
      "    \n",
      "         * FULL-For line input features, buffers will be generated on both\n",
      "         sides of the line. For polygon input features, buffers will be\n",
      "         generated around the polygon and will contain and overlap the area of\n",
      "         the input features. For point input features, buffers will be\n",
      "         generated around the point. This is the default.\n",
      "    \n",
      "         * LEFT-For line input features, buffers will be generated on the\n",
      "         topological left of the line. This option is not valid for polygon\n",
      "         input features.\n",
      "    \n",
      "         * RIGHT-For line input features, buffers will be generated on the\n",
      "         topological right of the line. This option is not valid for polygon\n",
      "         input features.\n",
      "    \n",
      "         * OUTSIDE_ONLY-For polygon input features, buffers will be generated\n",
      "         outside the input polygon only (the area inside the input polygon will\n",
      "         be erased from the output buffer). This option is not valid for line\n",
      "         input features.\n",
      "         This optional parameter is not available with a Desktop Basic or\n",
      "         Desktop Standard license.\n",
      "     line_end_type {String}:\n",
      "         Specifies the shape of the buffer at the end of line input features.\n",
      "         This parameter is not valid for polygon input features.\n",
      "    \n",
      "         * ROUND-The ends of the buffer will be round, in the shape of a half\n",
      "         circle. This is the default.\n",
      "    \n",
      "         * FLAT-The ends of the buffer will be flat, or squared, and will end\n",
      "         at the endpoint of the input line feature.\n",
      "         This optional parameter is not available with a Desktop Basic or\n",
      "         Desktop Standard license.\n",
      "     dissolve_option {String}:\n",
      "         Specifies the type of dissolve to be performed to remove buffer\n",
      "         overlap.\n",
      "    \n",
      "         * NONE-An individual buffer for each feature is maintained, regardless\n",
      "         of overlap. This is the default.\n",
      "    \n",
      "         * ALL-All buffers are dissolved together into a single feature,\n",
      "         removing any overlap.\n",
      "    \n",
      "         * LIST-Any buffers sharing attribute values in the listed fields\n",
      "         (carried over from the input features) are dissolved.\n",
      "     dissolve_field {Field}:\n",
      "         The list of fields from the input features on which to dissolve the\n",
      "         output buffers. Any buffers sharing attribute values in the listed\n",
      "         fields (carried over from the input features) are dissolved.\n",
      "     method {String}:\n",
      "         Specifies the method to use, planar or geodesic, to create the buffer.\n",
      "    \n",
      "         * PLANAR-If the input features are in a projected coordinate system,\n",
      "         Euclidean buffers are created. If the input features are in a\n",
      "         geographic coordinate system and the buffer distance is in linear\n",
      "         units (meters, feet, and so forth, as opposed to angular units such as\n",
      "         degrees), geodesic buffers are created. This is the default. You can\n",
      "         use the Output Coordinate System environment setting to specify the\n",
      "         coordinate system to use. For example, if your input features are in a\n",
      "         projected coordinate system, you can set the environment to a\n",
      "         geographic coordinate system to create geodesic buffers.\n",
      "    \n",
      "         * GEODESIC-All buffers are created using a shape-preserving geodesic\n",
      "         buffer method, regardless of the input coordinate system.\n",
      "    \n",
      "    OUTPUTS:\n",
      "     out_feature_class (Feature Class):\n",
      "         The feature class containing the output buffers.\n",
      "\n"
     ]
    }
   ],
   "source": [
    "help(arcpy.analysis.Buffer)"
   ]
  },
  {
   "cell_type": "code",
   "execution_count": 3,
   "metadata": {},
   "outputs": [
    {
     "data": {
      "text/html": [
       "<h2>Output</h2>C:\\Users\\runac\\Downloads\\Fall_2021\\ArcGIS1\\Labs\\Lab00_basics\\Lab00_basics.gdb\\Buffer_by_ArcNote<h2>Messages</h2>Start Time: Friday, September 17, 2021 11:47:59 AM<br/>Succeeded at Friday, September 17, 2021 11:48:30 AM (Elapsed Time: 31.16 seconds)<br/><style>.rendered_html td, .rendered_html th {text-align: left;}.rendered_html tbody {border: 1px solid black;}</style>"
      ],
      "text/plain": [
       "<Result 'C:\\\\Users\\\\runac\\\\Downloads\\\\Fall_2021\\\\ArcGIS1\\\\Labs\\\\Lab00_basics\\\\Lab00_basics.gdb\\\\Buffer_by_ArcNote'>"
      ]
     },
     "execution_count": 3,
     "metadata": {},
     "output_type": "execute_result"
    }
   ],
   "source": [
    "#conviently coppied python code from my history within ArcPro\n",
    "arcpy.analysis.Buffer(\n",
    "    \"state_park_trails_roads\", \n",
    "    r\"C:\\Users\\runac\\Downloads\\Fall_2021\\ArcGIS1\\Labs\\Lab00_basics\\Lab00_basics.gdb\\Buffer_by_ArcNote\", \n",
    "    \"5 Meters\", \n",
    "    \"FULL\", \n",
    "    \"ROUND\", \n",
    "    \"NONE\", \n",
    "    None, \n",
    "    \"PLANAR\")"
   ]
  },
  {
   "cell_type": "markdown",
   "metadata": {},
   "source": [
    "### Automatically appears in my ArcPro Map"
   ]
  },
  {
   "cell_type": "code",
   "execution_count": null,
   "metadata": {},
   "outputs": [],
   "source": []
  }
 ],
 "metadata": {
  "kernelspec": {
   "display_name": "Python 3 (ipykernel)",
   "language": "python",
   "name": "python3"
  },
  "language_info": {
   "codemirror_mode": {
    "name": "ipython",
    "version": 3
   },
   "file_extension": ".py",
   "mimetype": "text/x-python",
   "name": "python",
   "nbconvert_exporter": "python",
   "pygments_lexer": "ipython3",
   "version": "3.7.10"
  }
 },
 "nbformat": 4,
 "nbformat_minor": 4
}
