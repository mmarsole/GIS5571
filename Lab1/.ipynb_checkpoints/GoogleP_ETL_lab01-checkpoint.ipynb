{
 "cells": [
  {
   "cell_type": "markdown",
   "id": "395e3474-bca1-49e0-8e31-57c026c5ac00",
   "metadata": {},
   "source": [
    "## Lab01\n",
    "\n",
    "Goal: to extract any data from Google Places. "
   ]
  },
  {
   "cell_type": "markdown",
   "id": "c1a3f719-45fa-4a7b-a468-2615e000966c",
   "metadata": {},
   "source": [
    "**Places Details**\n",
    "\n",
    "access informaton based for a place. Must have `place_id`\n",
    "\n",
    "Link for locating a `place_id`: https://developers.google.com/maps/documentation/places/web-service/place-id"
   ]
  },
  {
   "cell_type": "code",
   "execution_count": 2,
   "id": "2a73b630-4139-440e-b8b3-32efc01d888a",
   "metadata": {
    "tags": []
   },
   "outputs": [
    {
     "name": "stdout",
     "output_type": "stream",
     "text": [
      "{\n",
      "   \"html_attributions\" : [],\n",
      "   \"result\" : {\n",
      "      \"formatted_phone_number\" : \"(612) 377-4669\",\n",
      "      \"name\" : \"Bockley Gallery\",\n",
      "      \"rating\" : 4.2,\n",
      "      \"reviews\" : [\n",
      "         {\n",
      "            \"author_name\" : \"Brian Moe\",\n",
      "            \"author_url\" : \"https://www.google.com/maps/contrib/115278262360979468986/reviews\",\n",
      "            \"language\" : \"en\",\n",
      "            \"profile_photo_url\" : \"https://lh3.googleusercontent.com/a-/AOh14GhbShWMJofLFe61tzxTw86DGadLQzPfHjB8_y4DBCU=s128-c0x00000000-cc-rp-mo-ba3\",\n",
      "            \"rating\" : 5,\n",
      "            \"relative_time_description\" : \"8 months ago\",\n",
      "            \"text\" : \"High-quality diverse curation. Todd, the owner, is great and is always there to talk about the artwork. My gallery of choice in Minnesota.\",\n",
      "            \"time\" : 1611327435\n",
      "         },\n",
      "         {\n",
      "            \"author_name\" : \"Karin Erickson\",\n",
      "            \"author_url\" : \"https://www.google.com/maps/contrib/109393339186196940960/reviews\",\n",
      "            \"language\" : \"en\",\n",
      "            \"profile_photo_url\" : \"https://lh3.googleusercontent.com/a/AATXAJzzTqx-fI_ZkS3TNEXkxWza3Dn3Mp7Y3bWx_Hmo=s128-c0x00000000-cc-rp-mo\",\n",
      "            \"rating\" : 1,\n",
      "            \"relative_time_description\" : \"2 years ago\",\n",
      "            \"text\" : \"I had a painting I left there on consignment for 18 months...a George Morrison. It did not sell. I called several times and left a message that I wanted to retrieve it..  I figured that if it was not going to sell we might as well just enjoy it. Todd was never available nor did he call back. Finally his assistant, Emily called and I told her what I wanted and she said she had it and I said I was coming to get it.\\nWhen I got there Todd called and said I could not take it. I showed all my ownership and consignment papers to Emily and I did take it but not before Todd arrived and screamed that I \\\"could not do this to him\\\".\\nI left, but felt threatened by Todd and quite fearful. I would urge people to find a gallery with a more sane owner for their consignments.\",\n",
      "            \"time\" : 1558038859\n",
      "         },\n",
      "         {\n",
      "            \"author_name\" : \"Irma Zandl\",\n",
      "            \"author_url\" : \"https://www.google.com/maps/contrib/101579716857027286357/reviews\",\n",
      "            \"language\" : \"en\",\n",
      "            \"profile_photo_url\" : \"https://lh3.googleusercontent.com/a-/AOh14Gi4wyQwR4jml9LKF6e8SDaOhXOLRz1mEBzf4MX1aws=s128-c0x00000000-cc-rp-mo-ba6\",\n",
      "            \"rating\" : 4,\n",
      "            \"relative_time_description\" : \"2 years ago\",\n",
      "            \"text\" : \"Beautiful, well-curated gallery in a quiet residential neighborhood in the Kenwood district. Currently showing work by NYC based artist, Brad Kahlhamer.\",\n",
      "            \"time\" : 1563632205\n",
      "         },\n",
      "         {\n",
      "            \"author_name\" : \"Hillary Churchill\",\n",
      "            \"author_url\" : \"https://www.google.com/maps/contrib/116066098694733990174/reviews\",\n",
      "            \"profile_photo_url\" : \"https://lh3.googleusercontent.com/a-/AOh14GjLZMqCRT6s7SotTYjqtxEp5j81Wsw0FmSm8SSfOw=s128-c0x00000000-cc-rp-mo-ba3\",\n",
      "            \"rating\" : 5,\n",
      "            \"relative_time_description\" : \"4 years ago\",\n",
      "            \"text\" : \"\",\n",
      "            \"time\" : 1505491611\n",
      "         },\n",
      "         {\n",
      "            \"author_name\" : \"Anthony Clementi\",\n",
      "            \"author_url\" : \"https://www.google.com/maps/contrib/105692087642341230105/reviews\",\n",
      "            \"profile_photo_url\" : \"https://lh3.googleusercontent.com/a-/AOh14GiLBnFAKWPKRZi0dp5MKdjPjyYULKQ9J8MlodDPHQ=s128-c0x00000000-cc-rp-mo\",\n",
      "            \"rating\" : 5,\n",
      "            \"relative_time_description\" : \"2 years ago\",\n",
      "            \"text\" : \"\",\n",
      "            \"time\" : 1566757096\n",
      "         }\n",
      "      ]\n",
      "   },\n",
      "   \"status\" : \"OK\"\n",
      "}\n",
      "\n"
     ]
    }
   ],
   "source": [
    "#Had to first make an account through Google Places to access an API key\n",
    "#coppied example code from the \"Google Maps Platform for Places Details\"\n",
    "\n",
    "import requests\n",
    "\n",
    "#Bockley Art Gallery: place_id = ChIJwxgOYyUzs1IRzgwVcRnU7g8\n",
    "#Montana Conservation Corps: place_id = ChIJGYXvlLBQZlMR6EGsusVhfgo\n",
    "\n",
    "#can return different details, although photos, returns desrciptions of photos rather than actual rasters/images\n",
    "#please note, i have removed my API key do to google suggesting i t keep it private\n",
    "url = \"https://maps.googleapis.com/maps/api/place/details/json?place_id=ChIJwxgOYyUzs1IRzgwVcRnU7g8&fields=name%2Crating%2Cformatted_phone_number%2Creviews&key=-----\"\n",
    "\n",
    "payload={}\n",
    "headers = {}\n",
    "\n",
    "response = requests.request(\"GET\", url, headers=headers, data=payload)\n",
    "\n",
    "print(response.text)\n",
    "\n",
    "#print(type(response))"
   ]
  },
  {
   "cell_type": "code",
   "execution_count": null,
   "id": "20f7c8ad-da7e-4e72-ab80-9308909d1f72",
   "metadata": {},
   "outputs": [],
   "source": []
  }
 ],
 "metadata": {
  "kernelspec": {
   "display_name": "Python 3 (ipykernel)",
   "language": "python",
   "name": "python3"
  },
  "language_info": {
   "codemirror_mode": {
    "name": "ipython",
    "version": 3
   },
   "file_extension": ".py",
   "mimetype": "text/x-python",
   "name": "python",
   "nbconvert_exporter": "python",
   "pygments_lexer": "ipython3",
   "version": "3.7.10"
  }
 },
 "nbformat": 4,
 "nbformat_minor": 5
}
