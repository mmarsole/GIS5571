{
 "cells": [
  {
   "cell_type": "markdown",
   "metadata": {},
   "source": [
    "## Part 1\n",
    "**Download two datasets from the MN Geospatial commons**\n",
    "\n",
    "Already did this in a seperate notebook PLease see \"MNGeo_ETL_lab01.ipynb\" file for code. For the sake of using Esri packages to complete the spatial joins, The rest of this notebook will be performed within ArcPro."
   ]
  },
  {
   "cell_type": "code",
   "execution_count": 56,
   "metadata": {},
   "outputs": [],
   "source": [
    "# but I will import arcpy\n",
    "\n",
    "import arcpy"
   ]
  },
  {
   "cell_type": "code",
   "execution_count": 57,
   "metadata": {},
   "outputs": [],
   "source": [
    "#current working directory\n",
    "%pwd\n",
    "\n",
    "#setting the working directory where my data is...\n",
    "arcpy.env.workspace = \"E:\\Fall 2021\\ArcGIS1\\Labs\\Lab01\\MNGEOdata_lab01\\MNGEOdata_lab01.gdb\""
   ]
  },
  {
   "cell_type": "code",
   "execution_count": 58,
   "metadata": {},
   "outputs": [],
   "source": [
    "#indentfying everything already in my gdb\n",
    "Feature_list = arcpy.ListFeatureClasses()"
   ]
  },
  {
   "cell_type": "code",
   "execution_count": 59,
   "metadata": {},
   "outputs": [],
   "source": [
    "#naming the path for each of my downloaded shapefiles\n",
    "Plants = r\"E:\\Fall 2021\\ArcGIS1\\Labs\\Lab01\\shp_biota_dnr_native_plant_comm\\dnr_native_plant_communities.shp\"\n",
    "Parks = r\"E:\\Fall 2021\\ArcGIS1\\Labs\\Lab01\\shp_bdry_dnr_lrs_prk\\dnr_management_units_prk.shp\""
   ]
  },
  {
   "cell_type": "code",
   "execution_count": 60,
   "metadata": {},
   "outputs": [],
   "source": [
    "#turning my variables (PATHS) into Layers\n",
    "Plant_l = arcpy.MakeFeatureLayer_management(Plants, \"Plants_layer\")\n",
    "Park_l = arcpy.MakeFeatureLayer_management(Parks, \"Parks_Layer\")\n"
   ]
  },
  {
   "cell_type": "markdown",
   "metadata": {},
   "source": [
    "## Part 2 \n",
    "\n",
    "**Making sure they are in the same CRS and PCS** "
   ]
  },
  {
   "cell_type": "code",
   "execution_count": 67,
   "metadata": {},
   "outputs": [
    {
     "ename": "AttributeError",
     "evalue": "DescribeData: Method GSCName does not exist",
     "output_type": "error",
     "traceback": [
      "\u001b[0;31m---------------------------------------------------------------------------\u001b[0m\n\u001b[0;31mAttributeError\u001b[0m                            Traceback (most recent call last)",
      "In  \u001b[0;34m[67]\u001b[0m:\nLine \u001b[0;34m6\u001b[0m:     sr3 = arcpy.Describe(Park_l).GSCName\n",
      "\u001b[0;31mAttributeError\u001b[0m: DescribeData: Method GSCName does not exist\n\u001b[0;31m---------------------------------------------------------------------------\u001b[0m"
     ]
    }
   ],
   "source": [
    "# Code sourced from: https://gis.stackexchange.com/questions/170088/checking-if-two-feature-classes-have-same-spatial-reference-using-arcpy\n",
    "\n",
    "#attempting to check and see if the spatial refernces are equal\n",
    "sr1 = arcpy.Describe(Plant_l).spatialReference\n",
    "sr2 = arcpy.Describe(Park_l).spatialReference\n",
    "sr3 = arcpy.Describe(Park_l)\n",
    "print(type(sr3))\n",
    "\n",
    "#I can extract the Geographic and projected coordinate systems from these spatialRefernces now that they are strings\n",
    "sr1String = sr1.exportToString()\n",
    "sr2String = sr2.exportToString()\n",
    "print(sr1String , sr2String )\n",
    "\n",
    "matching = False\n",
    "\n",
    "if sr1String == sr2String:\n",
    "    # Exact string match\n",
    "    matching = True\n",
    "    print('Spatial References match')\n",
    "else:\n",
    "    # difference\n",
    "    print(\"Spatial Refernces don't match?\")"
   ]
  },
  {
   "cell_type": "code",
   "execution_count": null,
   "metadata": {},
   "outputs": [],
   "source": [
    "#set a working directory\n",
    "%pwd\n",
    "# 'C:\\\\WINDOWS\\\\System32'\n",
    "arcpy.env.workspace = \"D:\\Fall 2021\\ArcGIS1\\Labs\\Lab01\\MNGEOdata_lab01\\MNGEOdata_lab01.gdb\"\n",
    "\n",
    "#naming and creating variables (using the previously ETL sourced MNGEO data)\n",
    "arcpy.FeatureClassToFeatureClass_conversion(r\"D:\\Fall 2021\\ArcGIS1\\Labs\\Lab01\\shp_biota_dnr_native_plant_comm\\dnr_native_plant_communities.shp\",\"D:\\Fall 2021\\ArcGIS1\\Labs\\Lab01\\MNGEOdata_lab01\\MNGEOdata_lab01.gdb\",\"Plants\")\n",
    "arcpy.FeatureClassToFeatureClass_conversion(r\"D:\\Fall 2021\\ArcGIS1\\Labs\\Lab01\\shp_bdry_dnr_lrs_prk\\dnr_management_units_prk.shp\",\"D:\\Fall 2021\\ArcGIS1\\Labs\\Lab01\\MNGEOdata_lab01\\MNGEOdata_lab01.gdb\",\"Parks\")"
   ]
  },
  {
   "cell_type": "markdown",
   "metadata": {},
   "source": [
    "## Part 3\n",
    "\n",
    "**Spatially join the datasets**"
   ]
  },
  {
   "cell_type": "code",
   "execution_count": 4,
   "metadata": {},
   "outputs": [
    {
     "data": {
      "text/html": [
       "<h2>Output</h2>E:\\Fall 2021\\ArcGIS1\\Labs\\Lab01\\MNGEOdata_lab01\\MNGEOdata_lab01.gdb\\plant_park_t1<h2>Messages</h2>Start Time: Thursday, September 30, 2021 1:10:28 PM<br/>Succeeded at Thursday, September 30, 2021 1:10:53 PM (Elapsed Time: 25.21 seconds)<br/><style>.rendered_html td, .rendered_html th {text-align: left;}.rendered_html tbody {border: 1px solid black;}</style>"
      ],
      "text/plain": [
       "<Result 'E:\\\\Fall 2021\\\\ArcGIS1\\\\Labs\\\\Lab01\\\\MNGEOdata_lab01\\\\MNGEOdata_lab01.gdb\\\\plant_park_t1'>"
      ]
     },
     "execution_count": 4,
     "metadata": {},
     "output_type": "execute_result"
    }
   ],
   "source": [
    "arcpy.analysis.SpatialJoin(\"dnr_native_plant_communities\", \n",
    "                           \"dnr_management_units_prk\", \n",
    "                           r\"E:\\Fall 2021\\ArcGIS1\\Labs\\Lab01\\MNGEOdata_lab01\\MNGEOdata_lab01.gdb\\plant_park_t1\", \n",
    "                           \"JOIN_ONE_TO_ONE\", \n",
    "                           \"KEEP_COMMON\", \n",
    "                           'NPC \"NPC\" true true false 150 Text 0 0,First,#,dnr_native_plant_communities,NPC,0,150;NPC_code \"NPC_code\" true true false 15 Text 0 0,First,#,dnr_native_plant_communities,NPC_code,0,15;NPC_descri \"NPC_descri\" true true false 125 Text 0 0,First,#,dnr_native_plant_communities,NPC_descri,0,125;condition_ \"condition_\" true true false 10 Text 0 0,First,#,dnr_native_plant_communities,condition_,0,10;system_cod \"system_cod\" true true false 10 Text 0 0,First,#,dnr_native_plant_communities,system_cod,0,10;system_des \"system_des\" true true false 150 Text 0 0,First,#,dnr_native_plant_communities,system_des,0,150;floristic_ \"floristic_\" true true false 50 Text 0 0,First,#,dnr_native_plant_communities,floristic_,0,50;floristic1 \"floristic1\" true true false 250 Text 0 0,First,#,dnr_native_plant_communities,floristic1,0,250;class_code \"class_code\" true true false 10 Text 0 0,First,#,dnr_native_plant_communities,class_code,0,10;class_desc \"class_desc\" true true false 250 Text 0 0,First,#,dnr_native_plant_communities,class_desc,0,250;biodiversi \"biodiversi\" true true false 25 Text 0 0,First,#,dnr_native_plant_communities,biodiversi,0,25;observer_1 \"observer_1\" true true false 150 Text 0 0,First,#,dnr_native_plant_communities,observer_1,0,150;observer_2 \"observer_2\" true true false 150 Text 0 0,First,#,dnr_native_plant_communities,observer_2,0,150;observer_3 \"observer_3\" true true false 150 Text 0 0,First,#,dnr_native_plant_communities,observer_3,0,150;observer_4 \"observer_4\" true true false 100 Text 0 0,First,#,dnr_native_plant_communities,observer_4,0,100;observer_5 \"observer_5\" true true false 100 Text 0 0,First,#,dnr_native_plant_communities,observer_5,0,100;observer_6 \"observer_6\" true true false 100 Text 0 0,First,#,dnr_native_plant_communities,observer_6,0,100;observer_7 \"observer_7\" true true false 254 Text 0 0,First,#,dnr_native_plant_communities,observer_7,0,254;observer_8 \"observer_8\" true true false 254 Text 0 0,First,#,dnr_native_plant_communities,observer_8,0,254;observer_9 \"observer_9\" true true false 254 Text 0 0,First,#,dnr_native_plant_communities,observer_9,0,254;observatio \"observatio\" true true false 10 Long 0 10,First,#,dnr_native_plant_communities,observatio,-1,-1;submitted_ \"submitted_\" true true false 150 Text 0 0,First,#,dnr_native_plant_communities,submitted_,0,150;admin_dnr_ \"admin_dnr_\" true true false 150 Text 0 0,First,#,dnr_native_plant_communities,admin_dnr_,0,150;collection \"collection\" true true false 150 Text 0 0,First,#,dnr_native_plant_communities,collection,0,150;photo_year \"photo_year\" true true false 10 Long 0 10,First,#,dnr_native_plant_communities,photo_year,-1,-1;photo_type \"photo_type\" true true false 254 Text 0 0,First,#,dnr_native_plant_communities,photo_type,0,254;comment \"comment\" true true false 254 Text 0 0,First,#,dnr_native_plant_communities,comment,0,254;gis_acres \"gis_acres\" true true false 19 Double 0 0,First,#,dnr_native_plant_communities,gis_acres,-1,-1;g_rank_det \"g_rank_det\" true true false 254 Text 0 0,First,#,dnr_native_plant_communities,g_rank_det,0,254;g_rank_hig \"g_rank_hig\" true true false 254 Text 0 0,First,#,dnr_native_plant_communities,g_rank_hig,0,254;g_rank_cat \"g_rank_cat\" true true false 50 Text 0 0,First,#,dnr_native_plant_communities,g_rank_cat,0,50;s_rank_cod \"s_rank_cod\" true true false 50 Text 0 0,First,#,dnr_native_plant_communities,s_rank_cod,0,50;s_rank_hig \"s_rank_hig\" true true false 50 Text 0 0,First,#,dnr_native_plant_communities,s_rank_hig,0,50;s_rank_cat \"s_rank_cat\" true true false 50 Text 0 0,First,#,dnr_native_plant_communities,s_rank_cat,0,50;SHAPE_Leng \"SHAPE_Leng\" true true false 19 Double 0 0,First,#,dnr_native_plant_communities,SHAPE_Leng,-1,-1;SHAPE_Area \"SHAPE_Area\" true true false 19 Double 0 0,First,#,dnr_native_plant_communities,SHAPE_Area,-1,-1;UNIT_NAME \"UNIT_NAME\" true true false 128 Text 0 0,First,#,dnr_management_units_prk,UNIT_NAME,0,128;UNIT_TYPE \"UNIT_TYPE\" true true false 32 Text 0 0,First,#,dnr_management_units_prk,UNIT_TYPE,0,32;PGRM_PROJE \"PGRM_PROJE\" true true false 16 Text 0 0,First,#,dnr_management_units_prk,PGRM_PROJE,0,16;GIS_ACRES_1 \"GIS_ACRES\" true true false 19 Double 0 0,First,#,dnr_management_units_prk,GIS_ACRES,-1,-1;LEGISLATIV \"LEGISLATIV\" true true false 200 Text 0 0,First,#,dnr_management_units_prk,LEGISLATIV,0,200;Shape_Leng_1 \"Shape_Leng\" true true false 19 Double 0 0,First,#,dnr_management_units_prk,Shape_Leng,-1,-1;Shape_Area_1 \"Shape_Area\" true true false 19 Double 0 0,First,#,dnr_management_units_prk,Shape_Area,-1,-1',\n",
    "                           \"INTERSECT\",\n",
    "                           None,\n",
    "                           '')"
   ]
  },
  {
   "cell_type": "markdown",
   "metadata": {},
   "source": [
    "## Part 4\n",
    "**Save/export the resulting data as a geodatabase**"
   ]
  },
  {
   "cell_type": "code",
   "execution_count": 5,
   "metadata": {},
   "outputs": [
    {
     "data": {
      "text/plain": [
       "'E:\\\\Fall 2021\\\\ArcGIS1\\\\Labs\\\\Lab01\\\\MNGEOdata_lab01'"
      ]
     },
     "execution_count": 5,
     "metadata": {},
     "output_type": "execute_result"
    }
   ],
   "source": [
    "#current working directory\n",
    "%pwd\n",
    "\n",
    "arcpy.env.workspace = \"E:\\Fall 2021\\ArcGIS1\\Labs\\Lab01\\MNGEOdata_lab01\\MNGEOdata_lab01.gdb\"\n",
    "\n",
    "#exporting the spatially joined data to my ArcPro GDB (already there becasue fo the spatial join but i'll save it again)\n",
    "arcpy.FeatureClassToFeatureClass_conversion(r\"E:\\Fall 2021\\ArcGIS1\\Labs\\Lab01\\shp_biota_dnr_native_plant_comm\\plant_park_t1.shp\",\"E:\\Fall 2021\\ArcGIS1\\Labs\\Lab01\\MNGEOdata_lab01\\MNGEOdata_lab01.gdb\",\"Plant_park_t2\")\n"
   ]
  },
  {
   "cell_type": "code",
   "execution_count": 6,
   "metadata": {},
   "outputs": [
    {
     "data": {
      "text/plain": [
       "['plant_coms_parks', 'plant_coms_plark_int', 'Plants', 'Parks', 'plant_park_t1']"
      ]
     },
     "execution_count": 6,
     "metadata": {},
     "output_type": "execute_result"
    }
   ],
   "source": [
    "#see a list of features within my current GDB\n",
    "arcpy.ListFeatureClasses()\n",
    "\n",
    "#google 'getCRS for arcpy'"
   ]
  },
  {
   "cell_type": "code",
   "execution_count": null,
   "metadata": {},
   "outputs": [],
   "source": []
  }
 ],
 "metadata": {
  "kernelspec": {
   "display_name": "Python 3 (ipykernel)",
   "language": "python",
   "name": "python3"
  },
  "language_info": {
   "codemirror_mode": {
    "name": "ipython",
    "version": 3
   },
   "file_extension": ".py",
   "mimetype": "text/x-python",
   "name": "python",
   "nbconvert_exporter": "python",
   "pygments_lexer": "ipython3",
   "version": "3.7.10"
  }
 },
 "nbformat": 4,
 "nbformat_minor": 4
}
