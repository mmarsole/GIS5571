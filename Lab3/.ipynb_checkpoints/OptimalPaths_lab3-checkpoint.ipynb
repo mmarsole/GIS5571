{
 "cells": [
  {
   "cell_type": "markdown",
   "metadata": {},
   "source": [
    "## Lab03: Optimal Path\n",
    "\n",
    "* build an ETL to obtain relevant data (DEM and Land Classifcation from MNGEO)\n",
    "* Create Cost Surface Model\n",
    "    * Distance Accumulation (from start/end point)\n",
    "    * Rescale (above Distance accumulation output)\n",
    "    * Weighted Sum (to produce a coast surface)\n",
    "    * Optimal Region Connections (this is where I add the stream barrier 'No crossing water!')"
   ]
  },
  {
   "cell_type": "markdown",
   "metadata": {},
   "source": [
    "#### Downloading data from MNGEO (DEM, Land Classification, Streams)"
   ]
  },
  {
   "cell_type": "code",
   "execution_count": 17,
   "metadata": {},
   "outputs": [],
   "source": [
    "import requests\n",
    "import json\n",
    "import pprint\n",
    "import zipfile\n",
    "import arcpy"
   ]
  },
  {
   "cell_type": "code",
   "execution_count": 21,
   "metadata": {},
   "outputs": [
    {
     "name": "stderr",
     "output_type": "stream",
     "text": [
      "C:\\Users\\runac\\AppData\\Local\\ESRI\\conda\\envs\\arcgispro-py3-Lab2_clone\\Lib\\site-packages\\urllib3\\connectionpool.py:1020: InsecureRequestWarning: Unverified HTTPS request is being made to host 'gisdata.mn.gov'. Adding certificate verification is strongly advised. See: https://urllib3.readthedocs.io/en/1.26.x/advanced-usage.html#ssl-warnings\n",
      "  InsecureRequestWarning,\n",
      "C:\\Users\\runac\\AppData\\Local\\ESRI\\conda\\envs\\arcgispro-py3-Lab2_clone\\Lib\\site-packages\\urllib3\\connectionpool.py:1020: InsecureRequestWarning: Unverified HTTPS request is being made to host 'gisdata.mn.gov'. Adding certificate verification is strongly advised. See: https://urllib3.readthedocs.io/en/1.26.x/advanced-usage.html#ssl-warnings\n",
      "  InsecureRequestWarning,\n"
     ]
    }
   ],
   "source": [
    "packages = \"https://gisdata.mn.gov/api/3/action/package_list\"\n",
    "groups = \"https://gisdata.mn.gov/api/3/action/group_list\"\n",
    "tags = \"https://gisdata.mn.gov/api/3/action/tag_list\"\n",
    "\n",
    "#I believe this locates all the tags within the MN geo commons (I am looking for 'biota' and 'boundary')\n",
    "response = requests.get(tags, auth = ('user','pass'), verify = False)\n",
    "# locate bu 'imagery-basemaps'\n",
    "response_1 = requests.get(groups, auth = ('user','pass'), verify = False)\n",
    "\n",
    "#converting the response from unreadable bytes to json\n",
    "tags_json = json.loads(response.content)\n",
    "\n",
    "tags_json_1 = json.loads(response_1.content)\n"
   ]
  },
  {
   "cell_type": "markdown",
   "metadata": {},
   "source": [
    "#### Extracting Land Cover file"
   ]
  },
  {
   "cell_type": "code",
   "execution_count": null,
   "metadata": {},
   "outputs": [],
   "source": [
    "#I want \"Impervious Surface Area by Landsat & lidar:2013-update -version 2\" data labeled with the 'land cover' tag \n",
    "groups = 'imagery-basemaps'\n",
    "tag1 = \"impervious surface area\"\n",
    "tag2 = 'land cover'\n",
    "tag3 = 'landsat'\n",
    "tag4 = 'lidar'\n",
    "tag5 = 'object based image classification'\n",
    "base_url = \"http://gisdata.mn.gov/api/3/action/package_search?q=\"\n",
    "\n",
    "package_information_url = base_url + groups + tag1 + tag2\n",
    "\n",
    "#requesting all information associated with 'land cover' tag from MN Geo Commons\n",
    "package_information = requests.get(package_information_url, auth = ('user', 'pass'), verify = False)\n",
    "\n",
    "#converting all the information to a json dictionary\n",
    "package_dict = json.loads(package_information.content)\n",
    "#pprint.pprint(package_dict)\n",
    "\n",
    "package_dict_result = package_dict[\"result\"]['results']\n",
    "\n",
    "r = requests.get(package_dict_result[0]['resources'][2]['url'])\n",
    "open('tif_base_landcover_minnesota.zip', 'wb').write(r.content)\n",
    "print('extracting the content...')\n",
    "\n",
    "#unzipping the file and saving it to my desired local\n",
    "with zipfile.ZipFile('tif_base_landcover_minnesota.zip', 'r') as zip_ref:\n",
    "    zip_ref.extractall(\"E:/Fall 2021/ArcGIS1/Labs/Lab02/Lab02_CostSurface/MN_geo_data_pipeline\")"
   ]
  },
  {
   "cell_type": "markdown",
   "metadata": {},
   "source": [
    "#### Extracting DEM file"
   ]
  },
  {
   "cell_type": "code",
   "execution_count": null,
   "metadata": {},
   "outputs": [],
   "source": [
    "groups = 'elevation'\n",
    "tag1 = 'model'\n",
    "tag2 = 'slope'\n",
    "tag3 = 'elevation'\n",
    "base_url = \"http://gisdata.mn.gov/api/3/action/package_search?q=\"\n",
    "\n",
    "package_information_url = base_url + groups\n",
    "\n",
    "#requesting all information associated with 'elevation' tag from MN Geo Commons\n",
    "package_information = requests.get(package_information_url, auth = ('user', 'pass'), verify = False)\n",
    "\n",
    "#converting all the information to a json dictionary\n",
    "package_dict = json.loads(package_information.content)\n",
    "#pprint.pprint(package_dict)\n",
    "\n",
    "package_dict_result = package_dict[\"result\"]['results']\n",
    "\n",
    "#pprint.pprint(package_dict_result[3]['resources'][1])\n",
    "\n",
    "#ID to comfirm data\n",
    "#My geodatabase ID: 1c2f17f6-f7df-43de-9d96-03b49b867f77\n",
    "\n",
    "r = requests.get(package_dict_result[3]['resources'][1]['url'])\n",
    "open('fgdb_elev_30m_digital_elevation_model.zip', 'wb').write(r.content)\n",
    "print('extracting the content...')\n",
    "\n",
    "#unzipping the file and saving it to my desired local\n",
    "with zipfile.ZipFile('fgdb_elev_30m_digital_elevation_model.zip', 'r') as zip_ref:\n",
    "    zip_ref.extractall(\"E:/Fall 2021/ArcGIS1/Labs/Lab02/Lab02_CostSurface/MN_geo_data_pipeline\")"
   ]
  },
  {
   "cell_type": "markdown",
   "metadata": {},
   "source": [
    "#### extracting stream data"
   ]
  },
  {
   "cell_type": "code",
   "execution_count": null,
   "metadata": {},
   "outputs": [],
   "source": [
    "groups = 'inland-waters'\n",
    "tag1 = 'dnr fisheries'\n",
    "tag2 = 'rivers'\n",
    "tag3 = 'stream survey'\n",
    "tag4 = 'streams'\n",
    "base_url = \"http://gisdata.mn.gov/api/3/action/package_search?q=\"\n",
    "\n",
    "package_information_url = base_url + groups + tag1\n",
    "\n",
    "#requesting all information associated with 'elevation' tag from MN Geo Commons\n",
    "package_information = requests.get(package_information_url, auth = ('user', 'pass'), verify = False)\n",
    "\n",
    "#converting all the information to a json dictionary\n",
    "package_dict = json.loads(package_information.content)\n",
    "#pprint.pprint(package_dict)\n",
    "\n",
    "package_dict_result = package_dict[\"result\"]['results']\n",
    "\n",
    "#pprint.pprint(package_dict_result[7]['resources'][1])\n",
    "#Shapefile ID: 0ad76fbd-452a-47b6-aa15-4a6cb49928ea\n",
    "\n",
    "r = requests.get(package_dict_result[7]['resources'][1]['url'])\n",
    "open('shp_water_measured_kittle_routes.zip', 'wb').write(r.content)\n",
    "print('extracting the content...')\n",
    "\n",
    "#unzipping the file and saving it to my desired local\n",
    "with zipfile.ZipFile('shp_water_measured_kittle_routes.zip', 'r') as zip_ref:\n",
    "    zip_ref.extractall(\"E:/Fall 2021/ArcGIS1/Labs/Lab02/Lab02_CostSurface/MN_geo_data_pipeline\")\n",
    "    \n",
    "print('Done!')"
   ]
  },
  {
   "cell_type": "markdown",
   "metadata": {},
   "source": [
    "#### extracting road data"
   ]
  },
  {
   "cell_type": "code",
   "execution_count": 44,
   "metadata": {},
   "outputs": [
    {
     "name": "stderr",
     "output_type": "stream",
     "text": [
      "C:\\Users\\runac\\AppData\\Local\\ESRI\\conda\\envs\\arcgispro-py3-Lab2_clone\\Lib\\site-packages\\urllib3\\connectionpool.py:1020: InsecureRequestWarning: Unverified HTTPS request is being made to host 'gisdata.mn.gov'. Adding certificate verification is strongly advised. See: https://urllib3.readthedocs.io/en/1.26.x/advanced-usage.html#ssl-warnings\n",
      "  InsecureRequestWarning,\n"
     ]
    },
    {
     "name": "stdout",
     "output_type": "stream",
     "text": [
      "extracting the content...\n",
      "Done!\n"
     ]
    }
   ],
   "source": [
    "groups = 'transportation'\n",
    "tag1 = 'route direction'\n",
    "tag2 = 'routes'\n",
    "tag3 = 'route number'\n",
    "tag4 = 'roads'\n",
    "base_url = \"http://gisdata.mn.gov/api/3/action/package_search?q=\"\n",
    "\n",
    "package_information_url = base_url + tag3\n",
    "\n",
    "#requesting all information associated with 'elevation' tag from MN Geo Commons\n",
    "package_information = requests.get(package_information_url, auth = ('user', 'pass'), verify = False)\n",
    "\n",
    "#converting all the information to a json dictionary\n",
    "package_dict = json.loads(package_information.content)\n",
    "#pprint.pprint(package_dict)\n",
    "\n",
    "package_dict_result = package_dict[\"result\"]['results']\n",
    "\n",
    "#pprint.pprint(package_dict_result[9]['resources'][3])\n",
    "# #Shapefile ID:91758b03-2f87-4a41-b0dc-555dcc8be279\n",
    "\n",
    "r = requests.get(package_dict_result[7]['resources'][1]['url'])\n",
    "open('shp_trans_roads_mndot_tis.zip', 'wb').write(r.content)\n",
    "print('extracting the content...')\n",
    "\n",
    "#unzipping the file and saving it to my desired local\n",
    "with zipfile.ZipFile('shp_trans_roads_mndot_tis.zip', 'r') as zip_ref:\n",
    "    zip_ref.extractall(\"D:/Fall 2021/ArcGIS1/Labs/Lab02/Lab02_CostSurface/MN_geo_data_pipeline\")\n",
    "    \n",
    "print('Done!')"
   ]
  },
  {
   "cell_type": "markdown",
   "metadata": {},
   "source": [
    "#### Data Preprocessing: \n",
    "In the GUI:\n",
    "* cropped data to a smaller spatial extant (previously all statewide)\n",
    "* created a shapefile for two points (the start and end locations for Dory's walk)\n",
    "\n",
    "I made to new feature classes in the GUI interface of ArcPro, one creating the start and end points for Dory's walk, the other a rectangular extent used to cropped the statewide data down to a smaller size. \n",
    "\n",
    "In the following code cells i will provide the code for buffering the road data (to 12ft wide) and then erasing where roads overlap with stream in order to build an optimal path that avoids stream corssing (this way Dory can find the bridges, since the stream will not register as stream at this location because we have altered the stream data)"
   ]
  },
  {
   "cell_type": "code",
   "execution_count": 15,
   "metadata": {},
   "outputs": [
    {
     "data": {
      "text/html": [
       "<h2>Output</h2>D:\\Fall 2021\\ArcGIS1\\Labs\\Lab02\\Lab02_CostSurface\\Lab02_CostSurface.gdb\\STREETS_Buffered_100ft<h2>Messages</h2>Start Time: Tuesday, November 30, 2021 2:50:36 PM<br/>Succeeded at Tuesday, November 30, 2021 2:50:41 PM (Elapsed Time: 5.55 seconds)<br/><style>.rendered_html td, .rendered_html th {text-align: left;}.rendered_html tbody {border: 1px solid black;}</style>"
      ],
      "text/plain": [
       "<Result 'D:\\\\Fall 2021\\\\ArcGIS1\\\\Labs\\\\Lab02\\\\Lab02_CostSurface\\\\Lab02_CostSurface.gdb\\\\STREETS_Buffered_100ft'>"
      ]
     },
     "execution_count": 15,
     "metadata": {},
     "output_type": "execute_result"
    }
   ],
   "source": [
    "###code for buffering road data\n",
    "\n",
    "arcpy.analysis.Buffer(\"STREETS_LOAD_ClipLayer\", \n",
    "                      r\"D:\\Fall 2021\\ArcGIS1\\Labs\\Lab02\\Lab02_CostSurface\\Lab02_CostSurface.gdb\\STREETS_Buffered_100ft\", \n",
    "                      \"100 Feet\", \n",
    "                      \"FULL\", \n",
    "                      \"ROUND\", \n",
    "                      \"NONE\", \n",
    "                      None, \n",
    "                      \"PLANAR\")"
   ]
  },
  {
   "cell_type": "code",
   "execution_count": 16,
   "metadata": {},
   "outputs": [
    {
     "data": {
      "text/html": [
       "<h2>Output</h2>D:\\Fall 2021\\ArcGIS1\\Labs\\Lab02\\Lab02_CostSurface\\Lab02_CostSurface.gdb\\streams_roads_BIGGEST_Buff<h2>Messages</h2>Start Time: Tuesday, November 30, 2021 2:50:48 PM<br/>Reading Features...<br/>Cracking Features...<br/>Assembling Features...<br/>Succeeded at Tuesday, November 30, 2021 2:51:18 PM (Elapsed Time: 29.50 seconds)<br/><style>.rendered_html td, .rendered_html th {text-align: left;}.rendered_html tbody {border: 1px solid black;}</style>"
      ],
      "text/plain": [
       "<Result 'D:\\\\Fall 2021\\\\ArcGIS1\\\\Labs\\\\Lab02\\\\Lab02_CostSurface\\\\Lab02_CostSurface.gdb\\\\streams_roads_BIGGEST_Buff'>"
      ]
     },
     "execution_count": 16,
     "metadata": {},
     "output_type": "execute_result"
    }
   ],
   "source": [
    "### code for erasing the intersection of road and stream data\n",
    "arcpy.analysis.Erase(\"streams_with_measured_kittle\", \n",
    "                     \"STREETS_Buffered_100ft\", \n",
    "                     r\"D:\\Fall 2021\\ArcGIS1\\Labs\\Lab02\\Lab02_CostSurface\\Lab02_CostSurface.gdb\\streams_roads_BIGGEST_Buff\",\n",
    "                     None)"
   ]
  },
  {
   "cell_type": "markdown",
   "metadata": {},
   "source": [
    "## Cost Surface Model\n",
    "\n",
    "* first: calculate the 'Distance Accumulation' from both the Start-End locations \n",
    "* second: rescale the outputs from the 'Distance Accumulation' Tool \n",
    "    * low values-low cost, high values -high cost (scale 1-10)\n",
    "* thrid: Weighted Sum (results in out cost raster)\n",
    "    * will be borrowing the previously reclassified Land Use raster form lab02 (this designates Dory's prefernces for avoiding crop fields)"
   ]
  },
  {
   "cell_type": "code",
   "execution_count": null,
   "metadata": {},
   "outputs": [],
   "source": [
    "#first output: has a strict avoidnace of slopes beyond -10 and 10 degrees\n",
    "out_distance_accumulation_raster = arcpy.sa.DistanceAccumulation(\"Start_End_points\",\n",
    "                                                                 None,\n",
    "                                                                 \"DEM\",\n",
    "                                                                 None, \n",
    "                                                                 \"DEM\", \n",
    "                                                                 \"BINARY 1 -10 10\",\n",
    "                                                                 None, \n",
    "                                                                 \"BINARY 1 45\",\n",
    "                                                                 r\"D:\\Fall 2021\\ArcGIS1\\Labs\\Lab02\\Lab02_CostSurface\\Lab02_CostSurface.gdb\\Back_dir_SE1\",\n",
    "                                                                 None,\n",
    "                                                                 None,\n",
    "                                                                 None,\n",
    "                                                                 None,\n",
    "                                                                 None,\n",
    "                                                                 '',\n",
    "                                                                 \"PLANAR\"\n",
    "                                                                ); out_distance_accumulation_raster.save(r\"D:\\Fall 2021\\ArcGIS1\\Labs\\Lab02\\Lab02_CostSurface\\Lab02_CostSurface.gdb\\Dis_from_SE1\")\n",
    "#second output, avoids slopes greater than 15 degrees and less than -15 degrees\n",
    "out_distance_accumulation_raster = arcpy.sa.DistanceAccumulation(\"Start_End_points\",\n",
    "                                                                 None,\n",
    "                                                                 \"DEM\",\n",
    "                                                                 None,\n",
    "                                                                 \"DEM\",\n",
    "                                                                 \"BINARY 1 -15 15\",\n",
    "                                                                 None,\n",
    "                                                                 \"BINARY 1 45\",\n",
    "                                                                 r\"D:\\Fall 2021\\ArcGIS1\\Labs\\Lab02\\Lab02_CostSurface\\Lab02_CostSurface.gdb\\Back_dir_SE2\",\n",
    "                                                                 None,\n",
    "                                                                 None,\n",
    "                                                                 None,\n",
    "                                                                 None,\n",
    "                                                                 None,\n",
    "                                                                 '',\n",
    "                                                                 \"PLANAR\"\n",
    "                                                                ); out_distance_accumulation_raster.save(r\"D:\\Fall 2021\\ArcGIS1\\Labs\\Lab02\\Lab02_CostSurface\\Lab02_CostSurface.gdb\\Dis_from_SE2\")\n",
    "#thrid output, avoids slpoes greater than 20 degrees and less than -20 degrees\n",
    "out_distance_accumulation_raster = arcpy.sa.DistanceAccumulation(\"Start_End_points\",\n",
    "                                                                 None,\n",
    "                                                                 \"DEM\",\n",
    "                                                                 None,\n",
    "                                                                 \"DEM\",\n",
    "                                                                 \"BINARY 1 -20 20\",\n",
    "                                                                 None,\n",
    "                                                                 \"BINARY 1 45\",\n",
    "                                                                 r\"D:\\Fall 2021\\ArcGIS1\\Labs\\Lab02\\Lab02_CostSurface\\Lab02_CostSurface.gdb\\Back_dir_SE3\",\n",
    "                                                                 None,\n",
    "                                                                 None,\n",
    "                                                                 None,\n",
    "                                                                 None,\n",
    "                                                                 None,\n",
    "                                                                 '',\n",
    "                                                                 \"PLANAR\"\n",
    "                                                                ); out_distance_accumulation_raster.save(r\"D:\\Fall 2021\\ArcGIS1\\Labs\\Lab02\\Lab02_CostSurface\\Lab02_CostSurface.gdb\\Dis_from_SE3\")"
   ]
  },
  {
   "cell_type": "code",
   "execution_count": null,
   "metadata": {},
   "outputs": [],
   "source": [
    "#rescaling the distance Accumulation rasters (from 1-10)\n",
    "#made the choice to rescale using the \"Logistic Decay\" function, since it favors smaller values (aka closer distance to our start and end points)\"\n",
    "\n",
    "#-10 t- 10 degree slope\n",
    "out_raster = arcpy.sa.RescaleByFunction(\"Dis_from_SE1\",\n",
    "                                        \"LOGISTICDECAY # # 99 # # # #\",\n",
    "                                        1,\n",
    "                                        10); out_raster.save(r\"D:\\Fall 2021\\ArcGIS1\\Labs\\Lab02\\Lab02_CostSurface\\Lab02_CostSurface.gdb\\Rescale_Dis_1\")\n",
    "#-15 tp 15 degree slope\n",
    "out_raster = arcpy.sa.RescaleByFunction(\"Dis_from_SE2\",\n",
    "                                        \"LOGISTICDECAY # # 99 # # # #\",\n",
    "                                        1,\n",
    "                                        10); out_raster.save(r\"D:\\Fall 2021\\ArcGIS1\\Labs\\Lab02\\Lab02_CostSurface\\Lab02_CostSurface.gdb\\Rescale_Dis_2\")\n",
    "\n",
    "#-20 to 20 degree slope \n",
    "out_raster = arcpy.sa.RescaleByFunction(\"Dis_from_SE3\",\n",
    "                                        \"LOGISTICDECAY # # 99 # # # #\",\n",
    "                                        1,\n",
    "                                        10); out_raster.save(r\"D:\\Fall 2021\\ArcGIS1\\Labs\\Lab02\\Lab02_CostSurface\\Lab02_CostSurface.gdb\\Rescale_Dis_3\")"
   ]
  },
  {
   "cell_type": "code",
   "execution_count": null,
   "metadata": {},
   "outputs": [],
   "source": [
    "##creating the Cost Surface through Weighted Sums (all calulated using the -10-10 slope tolerance raster)\n",
    "\n",
    "#first version: equal weights (1-1)\n",
    "out_raster = arcpy.ia.WeightedSum(\"Reclass_land1 Value 1;Rescale_Dis_1 VALUE 1\"); out_raster.save(r\"D:\\Fall 2021\\ArcGIS1\\Labs\\Lab02\\Lab02_CostSurface\\Lab02_CostSurface.gdb\\Cost_S1_11\")\n",
    "\n",
    "#second version: preferance for land cover (5-1)\n",
    "out_raster = arcpy.ia.WeightedSum(\"Reclass_land1 Value 5;Rescale_Dis_1 VALUE 1\"); out_raster.save(r\"D:\\Fall 2021\\ArcGIS1\\Labs\\Lab02\\Lab02_CostSurface\\Lab02_CostSurface.gdb\\Cost_S1_51\")\n",
    "\n",
    "#third version: prefernce for distance/slope (1-5)\n",
    "out_raster = arcpy.ia.WeightedSum(\"Reclass_land1 Value 1;Rescale_Dis_1 VALUE 5\"); out_raster.save(r\"D:\\Fall 2021\\ArcGIS1\\Labs\\Lab02\\Lab02_CostSurface\\Lab02_CostSurface.gdb\\Cost_S1_15\")"
   ]
  },
  {
   "cell_type": "code",
   "execution_count": 7,
   "metadata": {},
   "outputs": [],
   "source": [
    "##creating the Cost Surface through Weighted Sums (all calulated using the -15-15 slope tolerance raster)\n",
    "\n",
    "#first version: equal weights (1-1)\n",
    "out_raster2_11 = arcpy.ia.WeightedSum(\"Reclass_land1 Value 1;Rescale_Dis_2 VALUE 1\"); out_raster.save(r\"D:\\Fall 2021\\ArcGIS1\\Labs\\Lab02\\Lab02_CostSurface\\Lab02_CostSurface.gdb\\Cost_S2_11_\")\n",
    "\n",
    "#second version: preferance for land cover (5-1)\n",
    "out_raster2_51 = arcpy.ia.WeightedSum(\"Reclass_land1 Value 5;Rescale_Dis_2 VALUE 1\"); out_raster.save(r\"D:\\Fall 2021\\ArcGIS1\\Labs\\Lab02\\Lab02_CostSurface\\Lab02_CostSurface.gdb\\Cost_S2_51_\")\n",
    "\n",
    "#third version: prefernce for distance/slope (1-5)\n",
    "out_raster2_15 = arcpy.ia.WeightedSum(\"Reclass_land1 Value 1;Rescale_Dis_2 VALUE 5\"); out_raster.save(r\"D:\\Fall 2021\\ArcGIS1\\Labs\\Lab02\\Lab02_CostSurface\\Lab02_CostSurface.gdb\\Cost_S2_15_\")"
   ]
  },
  {
   "cell_type": "code",
   "execution_count": 8,
   "metadata": {},
   "outputs": [],
   "source": [
    "##creating the Cost Surface through Weighted Sums (all calulated using the -20-20 slope tolerance raster)\n",
    "\n",
    "#first version: equal weights (1-1)\n",
    "out_raster3_11 = arcpy.ia.WeightedSum(\"Reclass_land1 Value 1;Rescale_Dis_3 VALUE 1\"); out_raster.save(r\"D:\\Fall 2021\\ArcGIS1\\Labs\\Lab02\\Lab02_CostSurface\\Lab02_CostSurface.gdb\\Cost_S3_11_\")\n",
    "\n",
    "#second version: preferance for land cover (5-1)\n",
    "out_raster3_51 = arcpy.ia.WeightedSum(\"Reclass_land1 Value 5;Rescale_Dis_3 VALUE 1\"); out_raster.save(r\"D:\\Fall 2021\\ArcGIS1\\Labs\\Lab02\\Lab02_CostSurface\\Lab02_CostSurface.gdb\\Cost_S3_51_\")\n",
    "\n",
    "#third version: prefernce for distance/slope (1-5)\n",
    "out_raster3_15 = arcpy.ia.WeightedSum(\"Reclass_land1 Value 1;Rescale_Dis_3 VALUE 5\"); out_raster.save(r\"D:\\Fall 2021\\ArcGIS1\\Labs\\Lab02\\Lab02_CostSurface\\Lab02_CostSurface.gdb\\Cost_S3_15_\")"
   ]
  },
  {
   "cell_type": "markdown",
   "metadata": {},
   "source": [
    "#### Finally, Optimal Paths\n",
    "\n",
    "This is where I can stipulate the avodance of stream crossings!\n",
    "\n",
    "Note, I discovered as i wast calulating the optimal path, that as soon as i inputed the barrier (streams in this case since Dory doesn't want to cross them without a brigde), the results said it was impossible to connect my start and end points. AS soon as I removed the barrier, it sucessfully ran and found an 'OPtimal Path'.\n",
    "I surmise to possible reasons for this outcome:\n",
    "* the buffered width of roads (12ft) was to small given our raster dat had measeure between 15 and 30 ft (after runnning Many simulations, I learned I had to bump up the buffer to a ridiculously large value in order to get the computer to notice the gaps between stream. It finally worked at a buffer of 100 feet)\n",
    "* need to alter the function for discouraging slope so that it is more forgiving or inclusive of steep terrain (at the moment Bonary function returns NA values for cells with too steep of terrain). "
   ]
  },
  {
   "cell_type": "code",
   "execution_count": null,
   "metadata": {},
   "outputs": [],
   "source": [
    "#using the 'Optimal Region connection tool'\n",
    "\n",
    "#barrier for equal weight cost surface (FAILED)\n",
    "arcpy.sa.OptimalRegionConnections(\"Start_End_points\", r\"D:\\Fall 2021\\ArcGIS1\\Labs\\Lab02\\Lab02_CostSurface\\Lab02_CostSurface.gdb\\Optimal_S1_11\", \"streams_intersecting_roads\", \"Cost_S1_11\", None, \"PLANAR\", \"GENERATE_CONNECTIONS\")\n",
    "# the code when no barrier is specified runs just fine: \n",
    "arcpy.sa.OptimalRegionConnections(\"Start_End_points\", r\"D:\\Fall 2021\\ArcGIS1\\Labs\\Lab02\\Lab02_CostSurface\\Lab02_CostSurface.gdb\\Optimal_S1_11_nb\", None, \"Cost_S1_11\", None, \"PLANAR\", \"GENERATE_CONNECTIONS\")\n",
    "\n",
    "#using the Cost surface derived from: slopes -20 to 20 and a Large buffered road (100feet) (SUCCESS!!)\n",
    "#equal weights\n",
    "arcpy.sa.OptimalRegionConnections(\"Start_End_points\", r\"D:\\Fall 2021\\ArcGIS1\\Labs\\Lab02\\Lab02_CostSurface\\Lab02_CostSurface.gdb\\Optimal_S3_11_Biggest\", \"streams_roads_BIGGEST_Buff\", \"out_raster3_11\", None, \"PLANAR\", \"GENERATE_CONNECTIONS\")\n",
    "\n",
    "#weights favors land use (5-1)\n",
    "arcpy.sa.OptimalRegionConnections(\"Start_End_points\", r\"D:\\Fall 2021\\ArcGIS1\\Labs\\Lab02\\Lab02_CostSurface\\Lab02_CostSurface.gdb\\Optimal_S3_51_Biggest\", \"streams_roads_BIGGEST_Buff\", \"out_raster3_51\", None, \"PLANAR\", \"GENERATE_CONNECTIONS\")\n",
    "\n",
    "#weights favor slope/distance (1-5)\n",
    "arcpy.sa.OptimalRegionConnections(\"Start_End_points\", r\"D:\\Fall 2021\\ArcGIS1\\Labs\\Lab02\\Lab02_CostSurface\\Lab02_CostSurface.gdb\\Optimal_S3_15_Biggest\", \"streams_roads_BIGGEST_Buff\", \"out_raster3_15\", None, \"PLANAR\", \"GENERATE_CONNECTIONS\")"
   ]
  }
 ],
 "metadata": {
  "kernelspec": {
   "display_name": "ArcGISPro",
   "language": "Python",
   "name": "python3"
  },
  "language_info": {
   "file_extension": ".py",
   "name": "python",
   "version": "3"
  }
 },
 "nbformat": 4,
 "nbformat_minor": 2
}
