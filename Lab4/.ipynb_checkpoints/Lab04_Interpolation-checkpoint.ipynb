{
 "cells": [
  {
   "cell_type": "markdown",
   "metadata": {},
   "source": [
    "#### Lab4- Interpolation\n",
    "\n",
    "the code for extracting NDAWN data was supplied to us (see other jupyter notebook \"NDAWN_Requests_lab04.ipynb\" for code on extraction and data cleaning):\n"
   ]
  },
  {
   "cell_type": "markdown",
   "metadata": {},
   "source": [
    "IDW Interpolation"
   ]
  },
  {
   "cell_type": "code",
   "execution_count": 5,
   "metadata": {},
   "outputs": [
    {
     "data": {
      "text/html": [
       "<h2>Output</h2>D:\\Fall 2021\\ArcGIS1\\Labs\\lab3-4\\ArcGIS_Lab4_interpolation\\ArcGIS_Lab4_interpolation.gdb\\Idw_Ave_NDAW4<h2>Messages</h2>Start Time: Tuesday, November 30, 2021 9:22:17 PM<br/>WARNING 000957: Skipping feature(s) because of NULL or EMPTY geometry.<br/>Succeeded at Tuesday, November 30, 2021 9:22:20 PM (Elapsed Time: 3.24 seconds)<br/><style>.rendered_html td, .rendered_html th {text-align: left;}.rendered_html tbody {border: 1px solid black;}</style>"
      ],
      "text/plain": [
       "<Result 'D:\\\\Fall 2021\\\\ArcGIS1\\\\Labs\\\\lab3-4\\\\ArcGIS_Lab4_interpolation\\\\ArcGIS_Lab4_interpolation.gdb\\\\Idw_Ave_NDAW4'>"
      ]
     },
     "execution_count": 5,
     "metadata": {},
     "output_type": "execute_result"
    }
   ],
   "source": [
    "#I've already loaded the cleaned station data with MIN, MAx and Ave temp for the 30 day increment (Nov1-Nov30)\n",
    "\n",
    "#Now, let's interpolate Ave Air Temps via IDW\n",
    "arcpy.ddd.Idw(\"Ave_NDAWN_temps_XYTableToPoint\",\n",
    "              \"Avg_Air_Temp__Degrees_F___y\",\n",
    "              r\"D:\\Fall 2021\\ArcGIS1\\Labs\\lab3-4\\ArcGIS_Lab4_interpolation\\ArcGIS_Lab4_interpolation.gdb\\Idw_Ave_NDAW2\",\n",
    "              0.0132,\n",
    "              2,\n",
    "              \"VARIABLE 12\",\n",
    "              None)\n",
    "#Interpolate Max temps with IDW\n",
    "arcpy.ddd.Idw(\"Ave_NDAWN_temps_XYTableToPoint\",\n",
    "              \"MaxTemp30day\",\n",
    "              r\"D:\\Fall 2021\\ArcGIS1\\Labs\\lab3-4\\ArcGIS_Lab4_interpolation\\ArcGIS_Lab4_interpolation.gdb\\Idw_Ave_NDAW3\",\n",
    "              0.0132,\n",
    "              2,\n",
    "              \"VARIABLE 12\",\n",
    "              None)\n",
    "\n",
    "#Interpolate Min temps with IDW\n",
    "arcpy.ddd.Idw(\"Ave_NDAWN_temps_XYTableToPoint\",\n",
    "              \"MinTemp30day\",\n",
    "              r\"D:\\Fall 2021\\ArcGIS1\\Labs\\lab3-4\\ArcGIS_Lab4_interpolation\\ArcGIS_Lab4_interpolation.gdb\\Idw_Ave_NDAW4\",\n",
    "              0.0132,\n",
    "              2,\n",
    "              \"VARIABLE 12\",\n",
    "              None)"
   ]
  },
  {
   "cell_type": "markdown",
   "metadata": {},
   "source": [
    "Ordinary Kriging Interpolation"
   ]
  },
  {
   "cell_type": "code",
   "execution_count": 6,
   "metadata": {},
   "outputs": [],
   "source": [
    "#interpolate the Ave temp with Kriging\n",
    "out_surface_raster1 = arcpy.sa.Kriging(\"Ave_NDAWN_temps_XYTableToPoint\",\n",
    "                                      \"Avg_Air_Temp__Degrees_F___y\",\n",
    "                                      \"Spherical 0.013200 # # #\",\n",
    "                                      0.0132,\n",
    "                                      \"VARIABLE 12\",\n",
    "                                      None); out_surface_raster.save(r\"D:\\Fall 2021\\ArcGIS1\\Labs\\lab3-4\\ArcGIS_Lab4_interpolation\\ArcGIS_Lab4_interpolation.gdb\\Kriging_Ave_1\")\n",
    "\n",
    "\n",
    "# Next, we will interpolate the Max temp Values via Ordinary Kriging\n",
    "out_surface_raster2 = arcpy.sa.Kriging(\"Ave_NDAWN_temps_XYTableToPoint\",\n",
    "                                      \"MaxTemp30day\",\n",
    "                                      \"Spherical 0.013200 # # #\",\n",
    "                                      0.0132,\n",
    "                                      \"VARIABLE 12\",\n",
    "                                      None); out_surface_raster.save(r\"D:\\Fall 2021\\ArcGIS1\\Labs\\lab3-4\\ArcGIS_Lab4_interpolation\\ArcGIS_Lab4_interpolation.gdb\\Kriging_Ave_2\")\n",
    "#interpolate the Min temp with Kriging\n",
    "out_surface_raster3 = arcpy.sa.Kriging(\"Ave_NDAWN_temps_XYTableToPoint\",\n",
    "                                      \"MinTemp30day\",\n",
    "                                      \"Spherical 0.013200 # # #\",\n",
    "                                      0.0132,\n",
    "                                      \"VARIABLE 12\",\n",
    "                                      None); out_surface_raster.save(r\"D:\\Fall 2021\\ArcGIS1\\Labs\\lab3-4\\ArcGIS_Lab4_interpolation\\ArcGIS_Lab4_interpolation.gdb\\Kriging_Ave_3\")\n"
   ]
  },
  {
   "cell_type": "markdown",
   "metadata": {},
   "source": [
    "Global polynomial interpolation "
   ]
  },
  {
   "cell_type": "code",
   "execution_count": 7,
   "metadata": {},
   "outputs": [
    {
     "data": {
      "text/html": [
       "<h2>Output</h2><table><tr><th>id</th><th>value</th></tr><tr><td>0</td><td>a Layer object</td></tr><tr><td>1</td><td>D:\\Fall 2021\\ArcGIS1\\Labs\\lab3-4\\ArcGIS_Lab4_interpolation\\ArcGIS_Lab4_interpolation.gdb\\GPI_Min_temp3_ras</td></tr></table><h2>Messages</h2>Start Time: Tuesday, November 30, 2021 9:48:34 PM<br/>Succeeded at Tuesday, November 30, 2021 9:48:38 PM (Elapsed Time: 3.87 seconds)<br/><style>.rendered_html td, .rendered_html th {text-align: left;}.rendered_html tbody {border: 1px solid black;}</style>"
      ],
      "text/plain": [
       "<Result 'GPI_Ave_temp1_stats'>"
      ]
     },
     "execution_count": 7,
     "metadata": {},
     "output_type": "execute_result"
    }
   ],
   "source": [
    "\n",
    "#average Temp\n",
    "arcpy.ga.GlobalPolynomialInterpolation(\"Ave_NDAWN_temps_XYTableToPoint\",\n",
    "                                       \"Avg_Air_Temp__Degrees_F___y\",\n",
    "                                       \"GPI_Ave_temp1_stats\",\n",
    "                                       r\"D:\\Fall 2021\\ArcGIS1\\Labs\\lab3-4\\ArcGIS_Lab4_interpolation\\ArcGIS_Lab4_interpolation.gdb\\GPI_Ave_temp1_ras\",\n",
    "                                       0.0132,\n",
    "                                       1,\n",
    "                                       None)\n",
    "\n",
    "#Max temp\n",
    "arcpy.ga.GlobalPolynomialInterpolation(\"Ave_NDAWN_temps_XYTableToPoint\",\n",
    "                                       \"MaxTemp30day\",\n",
    "                                       \"GPI_Ave_temp1_stats\",\n",
    "                                       r\"D:\\Fall 2021\\ArcGIS1\\Labs\\lab3-4\\ArcGIS_Lab4_interpolation\\ArcGIS_Lab4_interpolation.gdb\\GPI_max_temp2_ras\",\n",
    "                                       0.0132,\n",
    "                                       1,\n",
    "                                       None)\n",
    "\n",
    "\n",
    "#Min Temp\n",
    "arcpy.ga.GlobalPolynomialInterpolation(\"Ave_NDAWN_temps_XYTableToPoint\",\n",
    "                                       \"MinTemp30day\",\n",
    "                                       \"GPI_Ave_temp1_stats\",\n",
    "                                       r\"D:\\Fall 2021\\ArcGIS1\\Labs\\lab3-4\\ArcGIS_Lab4_interpolation\\ArcGIS_Lab4_interpolation.gdb\\GPI_Min_temp3_ras\",\n",
    "                                       0.0132,\n",
    "                                       1,\n",
    "                                       None)\n"
   ]
  },
  {
   "cell_type": "code",
   "execution_count": null,
   "metadata": {},
   "outputs": [],
   "source": []
  }
 ],
 "metadata": {
  "kernelspec": {
   "display_name": "ArcGISPro",
   "language": "Python",
   "name": "python3"
  },
  "language_info": {
   "file_extension": ".py",
   "name": "python",
   "version": "3"
  }
 },
 "nbformat": 4,
 "nbformat_minor": 2
}
