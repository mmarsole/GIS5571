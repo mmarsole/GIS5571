{
 "cells": [
  {
   "cell_type": "markdown",
   "metadata": {},
   "source": [
    "# Lab 02-ArcGIS 1\n",
    "## Goals:\n",
    "* **Downloads** .LAS files from MN DNR\n",
    "* **Converts** the .LAS file into both a DEM and a TIN\n",
    "* **Saves** the new DEM and TIN to disk\n",
    "* **Exports** PDFs of the DEM and TIN with correct visualization"
   ]
  },
  {
   "cell_type": "markdown",
   "metadata": {},
   "source": [
    "### Download .las files from MN DNR"
   ]
  },
  {
   "cell_type": "code",
   "execution_count": 1,
   "metadata": {},
   "outputs": [],
   "source": [
    "# importing useful packages\n",
    "import requests #will use to web scrape\n",
    "import json\n",
    "import pprint\n",
    "import zipfile\n",
    "import arcpy #use to export, convert, or save ?\n",
    "\n",
    "#Note-to-self delete unnessacry packages and BeautifulSoup isn't available in ArcPy"
   ]
  },
  {
   "cell_type": "code",
   "execution_count": 2,
   "metadata": {},
   "outputs": [],
   "source": [
    "# directing it to MN DNR website\n",
    "base_url =\"https://resources.gisdata.mn.gov/pub/data/elevation/lidar/examples/lidar_sample/las/\"\n",
    "filename = \"4342-12-05.las\"\n",
    "page = requests.get(base_url + filename )\n"
   ]
  },
  {
   "cell_type": "code",
   "execution_count": 19,
   "metadata": {
    "scrolled": true
   },
   "outputs": [
    {
     "name": "stdout",
     "output_type": "stream",
     "text": [
      "extracting the content...\n"
     ]
    }
   ],
   "source": [
    "#downloading .las file?\n",
    "open(\"4342-12-05.las\", 'wb').write(page.content)\n",
    "print(\"extracting the content...\")\n",
    "#pretty sure this is not in my 'Lab02_DNR_lidar' gdb"
   ]
  },
  {
   "cell_type": "code",
   "execution_count": 5,
   "metadata": {},
   "outputs": [
    {
     "data": {
      "text/plain": [
       "'D:\\\\Fall 2021\\\\ArcGIS1\\\\Labs\\\\Lab02\\\\Lab02_DNR_lidar'"
      ]
     },
     "execution_count": 5,
     "metadata": {},
     "output_type": "execute_result"
    }
   ],
   "source": [
    "#What is my current working directory\n",
    "%pwd"
   ]
  },
  {
   "cell_type": "markdown",
   "metadata": {},
   "source": [
    "### Currently have the downloaded file, now need to convert the .las file to DEM and TIN"
   ]
  },
  {
   "cell_type": "code",
   "execution_count": 17,
   "metadata": {},
   "outputs": [
    {
     "name": "stdout",
     "output_type": "stream",
     "text": [
      "0\n"
     ]
    },
    {
     "data": {
      "text/html": [
       "<h2>Output</h2>D:\\Fall 2021\\ArcGIS1\\Labs\\Lab02\\Lab02_DNR_lidar\\LasDataset.lasd<h2>Messages</h2>Start Time: Monday, October 11, 2021 6:43:05 PM<br/>Succeeded at Monday, October 11, 2021 6:43:05 PM (Elapsed Time: 0.12 seconds)<br/><style>.rendered_html td, .rendered_html th {text-align: left;}.rendered_html tbody {border: 1px solid black;}</style>"
      ],
      "text/plain": [
       "<Result 'D:\\\\Fall 2021\\\\ArcGIS1\\\\Labs\\\\Lab02\\\\Lab02_DNR_lidar\\\\LasDataset.lasd'>"
      ]
     },
     "execution_count": 17,
     "metadata": {},
     "output_type": "execute_result"
    }
   ],
   "source": [
    "#setting the working directory to where my i want my data to go (.gdb folder)\n",
    "arcpy.env.workspace = \"D:\\Fall 2021\\ArcGIS1\\Labs\\Lab02\\Lab02_DNR_lidar\\Lab02_DNR_lidar.gdb\"\n",
    "\n",
    "#naming the path location to my downloaded las file\n",
    "las = r\"D:\\Fall 2021\\ArcGIS1\\Labs\\Lab02\\Lab02_DNR_lidar\\4342-12-05.las\"\n",
    "\n",
    "#create a las dataset instead of a feature class-need a las Dataset to make a DEM\n",
    "arcpy.management.CreateLasDataset(las, r\"D:\\Fall 2021\\ArcGIS1\\Labs\\Lab02\\Lab02_DNR_lidar\\LasDataset.lasd\", \"NO_RECURSION\", None, \"PROJCS['datum_D_North_American_1983_HARN_UTM_Zone_15N',GEOGCS['GCS_datum_D_North_American_1983_HARN',DATUM['D_unknown',SPHEROID['GRS_1980',6378137.0,298.257222101]],PRIMEM['Greenwich',0.0],UNIT['Degree',0.0174532925199433]],PROJECTION['Transverse_Mercator'],PARAMETER['false_easting',500000.0],PARAMETER['false_northing',0.0],PARAMETER['central_meridian',-93.0],PARAMETER['scale_factor',0.9996],PARAMETER['latitude_of_origin',0.0],UNIT['Meter',1.0]],VERTCS['NAVD88 - Geoid03 (Meters)',VDATUM['unknown'],PARAMETER['Vertical_Shift',0.0],PARAMETER['Direction',1.0],UNIT['Meter',1.0]]\", \"COMPUTE_STATS\", \"ABSOLUTE_PATHS\", \"NO_FILES\")"
   ]
  },
  {
   "cell_type": "markdown",
   "metadata": {},
   "source": [
    "### converting .las to TIN"
   ]
  },
  {
   "cell_type": "code",
   "execution_count": 15,
   "metadata": {},
   "outputs": [
    {
     "data": {
      "text/html": [
       "<h2>Output</h2>D:\\Fall 2021\\ArcGIS1\\Labs\\Lab02\\Lab02_DNR_lidar\\las_to_Tin<h2>Messages</h2>Start Time: Monday, October 11, 2021 6:37:24 PM<br/>Succeeded at Monday, October 11, 2021 6:38:09 PM (Elapsed Time: 45.05 seconds)<br/><style>.rendered_html td, .rendered_html th {text-align: left;}.rendered_html tbody {border: 1px solid black;}</style>"
      ],
      "text/plain": [
       "<Result 'D:\\\\Fall 2021\\\\ArcGIS1\\\\Labs\\\\Lab02\\\\Lab02_DNR_lidar\\\\las_to_Tin'>"
      ]
     },
     "execution_count": 15,
     "metadata": {},
     "output_type": "execute_result"
    }
   ],
   "source": [
    "#had to 'thin' the points because there were too many (only retained 70%)\n",
    "arcpy.ddd.LasDatasetToTin(las, r\"D:\\Fall 2021\\ArcGIS1\\Labs\\Lab02\\Lab02_DNR_lidar\\las_to_Tin\", \"RANDOM\", \"PERCENT\", 70, 10000000, 1, \"CLIP\")"
   ]
  },
  {
   "cell_type": "markdown",
   "metadata": {},
   "source": [
    "### converting .las to DEM"
   ]
  },
  {
   "cell_type": "code",
   "execution_count": 24,
   "metadata": {},
   "outputs": [
    {
     "data": {
      "text/html": [
       "<h2>Output</h2>D:\\Fall 2021\\ArcGIS1\\Labs\\Lab02\\Lab02_DNR_lidar\\las_to_DEM.tif<h2>Messages</h2>Start Time: Monday, October 11, 2021 7:12:57 PM<br/>Succeeded at Monday, October 11, 2021 7:13:01 PM (Elapsed Time: 3.95 seconds)<br/><style>.rendered_html td, .rendered_html th {text-align: left;}.rendered_html tbody {border: 1px solid black;}</style>"
      ],
      "text/plain": [
       "<Result 'D:\\\\Fall 2021\\\\ArcGIS1\\\\Labs\\\\Lab02\\\\Lab02_DNR_lidar\\\\las_to_DEM.tif'>"
      ]
     },
     "execution_count": 24,
     "metadata": {},
     "output_type": "execute_result"
    }
   ],
   "source": [
    "# earlier I made lasDataset, which I need if I am to make a DEM, because the input must be a .lasd file\n",
    "LasDataSet = r\"D:\\Fall 2021\\ArcGIS1\\Labs\\Lab02\\Lab02_DNR_lidar\\LasDataset.lasd\"\n",
    "\n",
    "arcpy.conversion.LasDatasetToRaster(LasDataSet, r\"D:\\Fall 2021\\ArcGIS1\\Labs\\Lab02\\Lab02_DNR_lidar\\las_to_DEM.tif\", \"ELEVATION\", \"BINNING AVERAGE LINEAR\", \"FLOAT\", \"CELLSIZE\", 10, 1)"
   ]
  },
  {
   "cell_type": "markdown",
   "metadata": {},
   "source": [
    "### Save both TIN and DEM to disk"
   ]
  },
  {
   "cell_type": "code",
   "execution_count": 25,
   "metadata": {},
   "outputs": [
    {
     "data": {
      "text/html": [
       "<h2>Output</h2><h2>Messages</h2>Start Time: Monday, October 11, 2021 7:13:24 PM<br/>Successfully converted:  D:\\Fall 2021\\ArcGIS1\\Labs\\Lab02\\Lab02_DNR_lidar\\las_to_DEM.tif To D:\\Fall 2021\\ArcGIS1\\Labs\\Lab02\\Lab02_DNR_lidar\\Lab02_DNR_lidar.gdb\\las_to_DEM_1<br/>Succeeded at Monday, October 11, 2021 7:13:29 PM (Elapsed Time: 5.36 seconds)<br/><style>.rendered_html td, .rendered_html th {text-align: left;}.rendered_html tbody {border: 1px solid black;}</style>"
      ],
      "text/plain": [
       "<Result ''>"
      ]
     },
     "execution_count": 25,
     "metadata": {},
     "output_type": "execute_result"
    }
   ],
   "source": [
    "#exporting raster DEM to gdb\n",
    "arcpy.conversion.RasterToGeodatabase(r\"'D:\\Fall 2021\\ArcGIS1\\Labs\\Lab02\\Lab02_DNR_lidar\\las_to_DEM.tif'\", r\"D:\\Fall 2021\\ArcGIS1\\Labs\\Lab02\\Lab02_DNR_lidar\\Lab02_DNR_lidar.gdb\", '')"
   ]
  },
  {
   "cell_type": "code",
   "execution_count": 26,
   "metadata": {},
   "outputs": [
    {
     "data": {
      "text/html": [
       "<h2>Output</h2>D:\\Fall 2021\\ArcGIS1\\Labs\\Lab02\\Lab02_DNR_lidar\\C1_las_to_TIN<h2>Messages</h2>Start Time: Monday, October 11, 2021 7:20:22 PM<br/>Succeeded at Monday, October 11, 2021 7:21:07 PM (Elapsed Time: 45.29 seconds)<br/><style>.rendered_html td, .rendered_html th {text-align: left;}.rendered_html tbody {border: 1px solid black;}</style>"
      ],
      "text/plain": [
       "<Result 'D:\\\\Fall 2021\\\\ArcGIS1\\\\Labs\\\\Lab02\\\\Lab02_DNR_lidar\\\\C1_las_to_TIN'>"
      ]
     },
     "execution_count": 26,
     "metadata": {},
     "output_type": "execute_result"
    }
   ],
   "source": [
    "#making a copy of las_to_TIN (saving it it my folder's project)\n",
    "arcpy.ddd.CopyTin(\"las_to_TIN\", r\"D:\\Fall 2021\\ArcGIS1\\Labs\\Lab02\\Lab02_DNR_lidar\\C1_las_to_TIN\", \"CURRENT\")"
   ]
  },
  {
   "cell_type": "markdown",
   "metadata": {},
   "source": [
    "### export PDFs of TIN and DEM"
   ]
  },
  {
   "cell_type": "code",
   "execution_count": 30,
   "metadata": {},
   "outputs": [
    {
     "data": {
      "text/plain": [
       "'D:\\\\Fall 2021\\\\ArcGIS1\\\\Labs\\\\Lab02\\\\Lab02_DNR_lidar\\\\DEM.pdf'"
      ]
     },
     "execution_count": 30,
     "metadata": {},
     "output_type": "execute_result"
    }
   ],
   "source": [
    "#code from https://pro.arcgis.com/en/pro-app/latest/arcpy/mapping/introduction-to-arcpy-mp.htm\n",
    "\n",
    "#locates my current project\n",
    "aprx = arcpy.mp.ArcGISProject(r\"D:\\Fall 2021\\ArcGIS1\\Labs\\Lab02\\Lab02_DNR_lidar\\Lab02_DNR_lidar.aprx\")\n",
    "#indentify the layout I have made within the project\n",
    "DEM_pdf = aprx.listLayouts(\"DEM\")[0]\n",
    "#export the layout\n",
    "DEM_pdf.exportToPDF(r\"D:\\Fall 2021\\ArcGIS1\\Labs\\Lab02\\Lab02_DNR_lidar\\DEM.pdf\", resolution = 300)"
   ]
  },
  {
   "cell_type": "markdown",
   "metadata": {},
   "source": [
    "#### issue with the TIN PDF (it never opens, or is a blank document).\n",
    "--guessing the issue is due to extreme file size (the data is too big to export in the PDF format). Workaround, try making a TIN dataset that is smaller.\n",
    "-- ended up exporting the contour elevation of the lidar data instead of teh TIN as a subsitute"
   ]
  },
  {
   "cell_type": "code",
   "execution_count": 36,
   "metadata": {},
   "outputs": [
    {
     "data": {
      "text/plain": [
       "'D:\\\\Fall 2021\\\\ArcGIS1\\\\Labs\\\\Lab02\\\\Lab02_DNR_lidar\\\\TIN_50.pdf'"
      ]
     },
     "execution_count": 36,
     "metadata": {},
     "output_type": "execute_result"
    }
   ],
   "source": [
    "#replicate the process for the TIN\n",
    "aprx = arcpy.mp.ArcGISProject(r\"D:\\Fall 2021\\ArcGIS1\\Labs\\Lab02\\Lab02_DNR_lidar\\Lab02_DNR_lidar.aprx\")\n",
    "TIN_pdf = aprx.listLayouts(\"TIN\")[0]\n",
    "#export the layout (decreased resolution becasue the TIN sucks a lot of memory)\n",
    "TIN_pdf.exportToPDF(r\"D:\\Fall 2021\\ArcGIS1\\Labs\\Lab02\\Lab02_DNR_lidar\\TIN_50.pdf\", resolution = 50)"
   ]
  },
  {
   "cell_type": "code",
   "execution_count": null,
   "metadata": {},
   "outputs": [],
   "source": []
  }
 ],
 "metadata": {
  "kernelspec": {
   "display_name": "Python 3 (ipykernel)",
   "language": "python",
   "name": "python3"
  },
  "language_info": {
   "codemirror_mode": {
    "name": "ipython",
    "version": 3
   },
   "file_extension": ".py",
   "mimetype": "text/x-python",
   "name": "python",
   "nbconvert_exporter": "python",
   "pygments_lexer": "ipython3",
   "version": "3.7.10"
  }
 },
 "nbformat": 4,
 "nbformat_minor": 4
}
