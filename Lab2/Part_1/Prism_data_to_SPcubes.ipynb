{
 "cells": [
  {
   "cell_type": "markdown",
   "metadata": {},
   "source": [
    "### Trying to download the PRISM data via bs4 \n",
    "* having issues identifying the link that is used to extract said PRISM zip file"
   ]
  },
  {
   "cell_type": "code",
   "execution_count": 1,
   "metadata": {},
   "outputs": [],
   "source": [
    "import arcpy\n",
    "import requests\n",
    "import zipfile\n",
    "#SUCCESSFULLY installed beautiful Soup!\n",
    "from bs4 import BeautifulSoup #don't need it "
   ]
  },
  {
   "cell_type": "markdown",
   "metadata": {},
   "source": [
    "### Attempt 2: extracting PRISM data via ETL"
   ]
  },
  {
   "cell_type": "code",
   "execution_count": 23,
   "metadata": {},
   "outputs": [
    {
     "name": "stdout",
     "output_type": "stream",
     "text": [
      "PRISM_ppt_30yr_normal_4kmM2_01_bil.zip\n",
      "extracting the content...\n",
      "PRISM_ppt_30yr_normal_4kmM2_02_bil.zip\n",
      "extracting the content...\n",
      "PRISM_ppt_30yr_normal_4kmM2_03_bil.zip\n",
      "extracting the content...\n",
      "PRISM_ppt_30yr_normal_4kmM2_04_bil.zip\n",
      "extracting the content...\n",
      "PRISM_ppt_30yr_normal_4kmM2_05_bil.zip\n",
      "extracting the content...\n",
      "PRISM_ppt_30yr_normal_4kmM2_06_bil.zip\n",
      "extracting the content...\n",
      "PRISM_ppt_30yr_normal_4kmM2_07_bil.zip\n",
      "extracting the content...\n",
      "PRISM_ppt_30yr_normal_4kmM2_08_bil.zip\n",
      "extracting the content...\n",
      "PRISM_ppt_30yr_normal_4kmM2_09_bil.zip\n",
      "extracting the content...\n",
      "PRISM_ppt_30yr_normal_4kmM2_10_bil.zip\n",
      "extracting the content...\n",
      "PRISM_ppt_30yr_normal_4kmM2_11_bil.zip\n",
      "extracting the content...\n",
      "PRISM_ppt_30yr_normal_4kmM2_12_bil.zip\n",
      "extracting the content...\n",
      "PRISM_ppt_30yr_normal_4kmM2_14_bil.zip\n",
      "extracting the content...\n"
     ]
    }
   ],
   "source": [
    "#successfully downloaded all the PRISM data via ETL BUT I had to make a list and extract each file one at a time\n",
    "list_of_values= ['01','02','03','04','05','06','07','08','09','10','11','12','14']\n",
    "\n",
    "#I made a list but had to use a for loop to iterate and extract each file\n",
    "for value in list_of_values:\n",
    "    page = requests.get(f\"http://services.nacse.org/prism/data/public/normals/4km/ppt/{value}\")\n",
    "    #i know the file name based on previously downloaded prism data (hope this isn't a )\n",
    "    filename = 'PRISM_ppt_30yr_normal_4kmM2_'+value+'_bil.zip'\n",
    "    print(filename)\n",
    "    open(filename, 'wb').write(page.content)\n",
    "    print(\"extracting the content...\")\n",
    "\n",
    "    #unzipping and saving the files to a folder within my current working directory\n",
    "    with zipfile.ZipFile(filename, 'r') as zip_ref:\n",
    "        zip_ref.extractall('C:/Users/runac/Downloads/Fall_2021/ArcGIS1/Labs/Lab02/Prism_data')\n"
   ]
  },
  {
   "cell_type": "markdown",
   "metadata": {},
   "source": [
    "### Making Space Time Cubes\n",
    "following steps from: https://www.esri.com/arcgis-blog/products/arcgis-pro/analytics/explore-your-raster-data-with-space-time-pattern-mining/ "
   ]
  },
  {
   "cell_type": "code",
   "execution_count": 6,
   "metadata": {},
   "outputs": [
    {
     "data": {
      "text/html": [
       "<h2>Output</h2><h2>Messages</h2>Start Time: Saturday, October 16, 2021 11:43:09 AM<br/>Successfully converted: C:\\Users\\runac\\Downloads\\Fall_2021\\ArcGIS1\\Labs\\Lab02\\Prism_data\\PRISM_ppt_30yr_normal_4kmM2_01_bil.bil To C:\\Users\\runac\\Downloads\\Fall_2021\\ArcGIS1\\Labs\\Lab02\\Converted_Prism_data\\PRISM_ppt_30yr_normal_4kmM2_01_bil.tif<br/>Successfully converted: C:\\Users\\runac\\Downloads\\Fall_2021\\ArcGIS1\\Labs\\Lab02\\Prism_data\\PRISM_ppt_30yr_normal_4kmM2_02_bil.bil To C:\\Users\\runac\\Downloads\\Fall_2021\\ArcGIS1\\Labs\\Lab02\\Converted_Prism_data\\PRISM_ppt_30yr_normal_4kmM2_02_bil.tif<br/>Successfully converted: C:\\Users\\runac\\Downloads\\Fall_2021\\ArcGIS1\\Labs\\Lab02\\Prism_data\\PRISM_ppt_30yr_normal_4kmM2_03_bil.bil To C:\\Users\\runac\\Downloads\\Fall_2021\\ArcGIS1\\Labs\\Lab02\\Converted_Prism_data\\PRISM_ppt_30yr_normal_4kmM2_03_bil.tif<br/>Successfully converted: C:\\Users\\runac\\Downloads\\Fall_2021\\ArcGIS1\\Labs\\Lab02\\Prism_data\\PRISM_ppt_30yr_normal_4kmM2_04_bil.bil To C:\\Users\\runac\\Downloads\\Fall_2021\\ArcGIS1\\Labs\\Lab02\\Converted_Prism_data\\PRISM_ppt_30yr_normal_4kmM2_04_bil.tif<br/>Successfully converted: C:\\Users\\runac\\Downloads\\Fall_2021\\ArcGIS1\\Labs\\Lab02\\Prism_data\\PRISM_ppt_30yr_normal_4kmM2_05_bil.bil To C:\\Users\\runac\\Downloads\\Fall_2021\\ArcGIS1\\Labs\\Lab02\\Converted_Prism_data\\PRISM_ppt_30yr_normal_4kmM2_05_bil.tif<br/>Successfully converted: C:\\Users\\runac\\Downloads\\Fall_2021\\ArcGIS1\\Labs\\Lab02\\Prism_data\\PRISM_ppt_30yr_normal_4kmM2_06_bil.bil To C:\\Users\\runac\\Downloads\\Fall_2021\\ArcGIS1\\Labs\\Lab02\\Converted_Prism_data\\PRISM_ppt_30yr_normal_4kmM2_06_bil.tif<br/>Successfully converted: C:\\Users\\runac\\Downloads\\Fall_2021\\ArcGIS1\\Labs\\Lab02\\Prism_data\\PRISM_ppt_30yr_normal_4kmM2_07_bil.bil To C:\\Users\\runac\\Downloads\\Fall_2021\\ArcGIS1\\Labs\\Lab02\\Converted_Prism_data\\PRISM_ppt_30yr_normal_4kmM2_07_bil.tif<br/>Successfully converted: C:\\Users\\runac\\Downloads\\Fall_2021\\ArcGIS1\\Labs\\Lab02\\Prism_data\\PRISM_ppt_30yr_normal_4kmM2_08_bil.bil To C:\\Users\\runac\\Downloads\\Fall_2021\\ArcGIS1\\Labs\\Lab02\\Converted_Prism_data\\PRISM_ppt_30yr_normal_4kmM2_08_bil.tif<br/>Successfully converted: C:\\Users\\runac\\Downloads\\Fall_2021\\ArcGIS1\\Labs\\Lab02\\Prism_data\\PRISM_ppt_30yr_normal_4kmM2_09_bil.bil To C:\\Users\\runac\\Downloads\\Fall_2021\\ArcGIS1\\Labs\\Lab02\\Converted_Prism_data\\PRISM_ppt_30yr_normal_4kmM2_09_bil.tif<br/>Successfully converted: C:\\Users\\runac\\Downloads\\Fall_2021\\ArcGIS1\\Labs\\Lab02\\Prism_data\\PRISM_ppt_30yr_normal_4kmM2_10_bil.bil To C:\\Users\\runac\\Downloads\\Fall_2021\\ArcGIS1\\Labs\\Lab02\\Converted_Prism_data\\PRISM_ppt_30yr_normal_4kmM2_10_bil.tif<br/>Successfully converted: C:\\Users\\runac\\Downloads\\Fall_2021\\ArcGIS1\\Labs\\Lab02\\Prism_data\\PRISM_ppt_30yr_normal_4kmM2_11_bil.bil To C:\\Users\\runac\\Downloads\\Fall_2021\\ArcGIS1\\Labs\\Lab02\\Converted_Prism_data\\PRISM_ppt_30yr_normal_4kmM2_11_bil.tif<br/>Successfully converted: C:\\Users\\runac\\Downloads\\Fall_2021\\ArcGIS1\\Labs\\Lab02\\Prism_data\\PRISM_ppt_30yr_normal_4kmM2_12_bil.bil To C:\\Users\\runac\\Downloads\\Fall_2021\\ArcGIS1\\Labs\\Lab02\\Converted_Prism_data\\PRISM_ppt_30yr_normal_4kmM2_12_bil.tif<br/>Succeeded at Saturday, October 16, 2021 11:43:14 AM (Elapsed Time: 5.59 seconds)<br/><style>.rendered_html td, .rendered_html th {text-align: left;}.rendered_html tbody {border: 1px solid black;}</style>"
      ],
      "text/plain": [
       "<Result ''>"
      ]
     },
     "execution_count": 6,
     "metadata": {},
     "output_type": "execute_result"
    }
   ],
   "source": [
    "#converted 'Raster to Other Format' (bil to tif)-successful\n",
    "arcpy.conversion.RasterToOtherFormat(r\"'C:\\Users\\runac\\Downloads\\Fall_2021\\ArcGIS1\\Labs\\Lab02\\Prism_data\\PRISM_ppt_30yr_normal_4kmM2_01_bil.bil';'C:\\Users\\runac\\Downloads\\Fall_2021\\ArcGIS1\\Labs\\Lab02\\Prism_data\\PRISM_ppt_30yr_normal_4kmM2_02_bil.bil';'C:\\Users\\runac\\Downloads\\Fall_2021\\ArcGIS1\\Labs\\Lab02\\Prism_data\\PRISM_ppt_30yr_normal_4kmM2_03_bil.bil';'C:\\Users\\runac\\Downloads\\Fall_2021\\ArcGIS1\\Labs\\Lab02\\Prism_data\\PRISM_ppt_30yr_normal_4kmM2_04_bil.bil';'C:\\Users\\runac\\Downloads\\Fall_2021\\ArcGIS1\\Labs\\Lab02\\Prism_data\\PRISM_ppt_30yr_normal_4kmM2_05_bil.bil';'C:\\Users\\runac\\Downloads\\Fall_2021\\ArcGIS1\\Labs\\Lab02\\Prism_data\\PRISM_ppt_30yr_normal_4kmM2_06_bil.bil';'C:\\Users\\runac\\Downloads\\Fall_2021\\ArcGIS1\\Labs\\Lab02\\Prism_data\\PRISM_ppt_30yr_normal_4kmM2_07_bil.bil';'C:\\Users\\runac\\Downloads\\Fall_2021\\ArcGIS1\\Labs\\Lab02\\Prism_data\\PRISM_ppt_30yr_normal_4kmM2_08_bil.bil';'C:\\Users\\runac\\Downloads\\Fall_2021\\ArcGIS1\\Labs\\Lab02\\Prism_data\\PRISM_ppt_30yr_normal_4kmM2_09_bil.bil';'C:\\Users\\runac\\Downloads\\Fall_2021\\ArcGIS1\\Labs\\Lab02\\Prism_data\\PRISM_ppt_30yr_normal_4kmM2_10_bil.bil';'C:\\Users\\runac\\Downloads\\Fall_2021\\ArcGIS1\\Labs\\Lab02\\Prism_data\\PRISM_ppt_30yr_normal_4kmM2_11_bil.bil';'C:\\Users\\runac\\Downloads\\Fall_2021\\ArcGIS1\\Labs\\Lab02\\Prism_data\\PRISM_ppt_30yr_normal_4kmM2_12_bil.bil'\",\n",
    "                                     r\"C:\\Users\\runac\\Downloads\\Fall_2021\\ArcGIS1\\Labs\\Lab02\\Converted_Prism_data\", \n",
    "                                     \"TIFF\")"
   ]
  },
  {
   "cell_type": "code",
   "execution_count": 10,
   "metadata": {},
   "outputs": [
    {
     "data": {
      "text/html": [
       "<h2>Output</h2>D:\\Fall 2021\\ArcGIS1\\Labs\\Lab02\\Lab02_DNR_lidar\\Scratch_Space_lab02\\Scratch_Space_lab02.gdb\\m_12_Precip<h2>Messages</h2>Start Time: Saturday, October 16, 2021 1:22:45 PM<br/>Succeeded at Saturday, October 16, 2021 1:22:51 PM (Elapsed Time: 5.73 seconds)<br/><style>.rendered_html td, .rendered_html th {text-align: left;}.rendered_html tbody {border: 1px solid black;}</style>"
      ],
      "text/plain": [
       "<Result 'D:\\\\Fall 2021\\\\ArcGIS1\\\\Labs\\\\Lab02\\\\Lab02_DNR_lidar\\\\Scratch_Space_lab02\\\\Scratch_Space_lab02.gdb\\\\m_12_Precip'>"
      ]
     },
     "execution_count": 10,
     "metadata": {},
     "output_type": "execute_result"
    }
   ],
   "source": [
    "#Create a Mosaic Dataset named 'm_12_Precip'\n",
    "arcpy.management.CreateMosaicDataset(r\"D:\\Fall 2021\\ArcGIS1\\Labs\\Lab02\\Lab02_DNR_lidar\\Scratch_Space_lab02\\Scratch_Space_lab02.gdb\", \"m_12_Precip\", \"GEOGCS['GCS_North_American_1983',DATUM['D_North_American_1983',SPHEROID['GRS_1980',6378137.0,298.257222101]],PRIMEM['Greenwich',0.0],UNIT['Degree',0.0174532925199433]]\", None, '', \"NONE\", None)"
   ]
  },
  {
   "cell_type": "code",
   "execution_count": 11,
   "metadata": {},
   "outputs": [
    {
     "data": {
      "text/html": [
       "<h2>Output</h2>a Layer object<h2>Messages</h2>Start Time: Saturday, October 16, 2021 1:23:20 PM<br/>2021-10-16T13:23:22.634: Loading raster datasets<br/>2021-10-16T13:23:22.680: Completed crawling 12 data source items. Added 12 mosaic dataset items.<br/>2021-10-16T13:23:22.682: Synchronizing crawled data source items<br/>2021-10-16T13:23:22.703: Synchronizing items associated with raster type instance 'Raster Dataset' [ID: 1].<br/>2021-10-16T13:23:22.884: Completed synchronization: 12 items selected, 12 items synchronized.<br/>2021-10-16T13:23:23.214: Computing cell size levels<br/>2021-10-16T13:23:23.214: Computing unique cell size values<br/>2021-10-16T13:23:23.292: Computing maximum cell size values<br/>2021-10-16T13:23:23.303: Computing minimum cell size values<br/>2021-10-16T13:23:23.310: Updating visibility values of selected items<br/>2021-10-16T13:23:23.376: Computing maximum cell size for mosaic dataset<br/>2021-10-16T13:23:23.405: Completed computing cell size ranges.<br/>2021-10-16T13:23:23.562: Completed building boundary.<br/>Succeeded at Saturday, October 16, 2021 1:23:24 PM (Elapsed Time: 3.28 seconds)<br/><style>.rendered_html td, .rendered_html th {text-align: left;}.rendered_html tbody {border: 1px solid black;}</style>"
      ],
      "text/plain": [
       "<Result 'm_12_Precip'>"
      ]
     },
     "execution_count": 11,
     "metadata": {},
     "output_type": "execute_result"
    }
   ],
   "source": [
    "#Add rasters (tifs) to mosaic Dataset 'm_12_Precip'\n",
    "arcpy.management.AddRastersToMosaicDataset(\"m_12_Precip\", \"Raster Dataset\", r\"'C:\\Users\\runac\\Downloads\\Fall_2021\\ArcGIS1\\Labs\\Lab02\\Converted_Prism_data'\", \"UPDATE_CELL_SIZES\", \"UPDATE_BOUNDARY\", \"NO_OVERVIEWS\", None, 0, 1500, None, '', \"SUBFOLDERS\", \"ALLOW_DUPLICATES\", \"NO_PYRAMIDS\", \"NO_STATISTICS\", \"NO_THUMBNAILS\", '', \"NO_FORCE_SPATIAL_REFERENCE\", \"NO_STATISTICS\", None, \"NO_PIXEL_CACHE\", r\"C:\\Users\\runac\\AppData\\Local\\ESRI\\rasterproxies\\m_12_Precip\")                                                                                                                                                                                                                              "
   ]
  },
  {
   "cell_type": "code",
   "execution_count": 12,
   "metadata": {},
   "outputs": [
    {
     "data": {
      "text/html": [
       "<h2>Output</h2>a Layer object<h2>Messages</h2>Start Time: Saturday, October 16, 2021 1:23:54 PM<br/>Adding Variable to AMD_m_12_Precip_CAT...<br/>Succeeded at Saturday, October 16, 2021 1:23:56 PM (Elapsed Time: 1.55 seconds)<br/><style>.rendered_html td, .rendered_html th {text-align: left;}.rendered_html tbody {border: 1px solid black;}</style>"
      ],
      "text/plain": [
       "<Result 'm_12_Precip\\\\Footprint'>"
      ]
     },
     "execution_count": 12,
     "metadata": {},
     "output_type": "execute_result"
    }
   ],
   "source": [
    "#made a new variable/column named \"Random_Variable\" ---not sure its necessary ?\n",
    "#still need to alter code:\n",
    "arcpy.management.CalculateField(r\"m_12_Precip\\Footprint\", \"Variable\", '\"Random_Variable\"', \"PYTHON3\", '', \"TEXT\")"
   ]
  },
  {
   "cell_type": "code",
   "execution_count": 13,
   "metadata": {},
   "outputs": [
    {
     "data": {
      "text/html": [
       "<h2>Output</h2>a Layer object<h2>Messages</h2>Start Time: Saturday, October 16, 2021 1:24:20 PM<br/>Adding Timestamp_1 to AMD_m_12_Precip_CAT...<br/>Succeeded at Saturday, October 16, 2021 1:24:21 PM (Elapsed Time: 1.32 seconds)<br/><style>.rendered_html td, .rendered_html th {text-align: left;}.rendered_html tbody {border: 1px solid black;}</style>"
      ],
      "text/plain": [
       "<Result 'm_12_Precip\\\\Footprint'>"
      ]
     },
     "execution_count": 13,
     "metadata": {},
     "output_type": "execute_result"
    }
   ],
   "source": [
    "#made a new variable/column named \"Timestamp_1\" ---may alter dates by year instead of month?\n",
    "#still need to alter code?:\n",
    "arcpy.management.CalculateField(r\"m_12_Precip\\Footprint\", \"Timestamp_1\", \"DateAdd(Date(1980,0,1), $feature.OBJECTID-1, 'month')\", \"ARCADE\", '', \"DATE\")"
   ]
  },
  {
   "cell_type": "code",
   "execution_count": 14,
   "metadata": {},
   "outputs": [
    {
     "data": {
      "text/html": [
       "<h2>Output</h2>a Layer object<h2>Messages</h2>Start Time: Saturday, October 16, 2021 1:25:20 PM<br/>Succeeded at Saturday, October 16, 2021 1:25:32 PM (Elapsed Time: 11.77 seconds)<br/><style>.rendered_html td, .rendered_html th {text-align: left;}.rendered_html tbody {border: 1px solid black;}</style>"
      ],
      "text/plain": [
       "<Result 'm_12_Precip'>"
      ]
     },
     "execution_count": 14,
     "metadata": {},
     "output_type": "execute_result"
    }
   ],
   "source": [
    "#Build Multidimensional Info\n",
    "arcpy.md.BuildMultidimensionalInfo(\"m_12_Precip\", \"Variable\", \"Timestamp_1 # #\", None)\n",
    "#arcpy.md.BuildMultidimensionalInfo(\"m_10_Precip\", \"Variable\", \"Timestamp_1 # #\", None)"
   ]
  },
  {
   "cell_type": "markdown",
   "metadata": {},
   "source": [
    "## Manual Step:\n",
    "I need to manually Turn Off the 'Layer Time' to 'No Time' (don't know how to do so via code)"
   ]
  },
  {
   "cell_type": "code",
   "execution_count": 19,
   "metadata": {},
   "outputs": [
    {
     "data": {
      "text/html": [
       "<h2>Output</h2>a Layer object<h2>Messages</h2>Start Time: Saturday, October 16, 2021 2:03:39 PM<br/>Succeeded at Saturday, October 16, 2021 2:03:44 PM (Elapsed Time: 4.94 seconds)<br/><style>.rendered_html td, .rendered_html th {text-align: left;}.rendered_html tbody {border: 1px solid black;}</style>"
      ],
      "text/plain": [
       "<Result 'm_12_Precip_MultidimLayer'>"
      ]
     },
     "execution_count": 19,
     "metadata": {},
     "output_type": "execute_result"
    }
   ],
   "source": [
    "#convert time enabled data to a Single Time enabled layer\n",
    "#make sure current Coordinate systme matches \"m_12_Precip_MultidimLayer\"\n",
    "arcpy.md.MakeMultidimensionalRasterLayer(\"m_12_Precip\", \"m_12_Precip_MultidimLayer\", '\"Random_Variable\"', \"ALL\", None, None, '', '', '', None, '', \"-125.020833333333 24.0625 -66.479166666662 49.937500000002\", \"DIMENSIONS\")"
   ]
  },
  {
   "cell_type": "code",
   "execution_count": 2,
   "metadata": {},
   "outputs": [
    {
     "data": {
      "text/html": [
       "<h2>Output</h2>D:\\Fall 2021\\ArcGIS1\\Labs\\Lab02\\Lab02_DNR_lidar\\Scratch_Space_lab02\\Spacecube_percip_12.nc<h2>Messages</h2>Start Time: Saturday, October 16, 2021 10:20:09 PM<br/>WARNING 110290: This tool requires projected data to accurately measure distances.  The Input Multidimensional Raster Layer will be projected to the WGS 1984 World Equidistant Cylindrical projection (WKID 4087).<br/>WARNING 110296: The Input Multidimensional Raster Layer contains irregular time intervals.  The data has been binned into regular intervals of 2505600 seconds.<br/>WARNING 110013: The default Time Step Interval is 29 days.<br/>WARNING 110067: Your spatial reference is not compatible with CF Conventions.  You may experience difficulties using the resulting space-time cube with other NetCDF tools and software.<br/><br/>---------- Space Time Cube Characteristics -----------<br/>Input feature time extent          1980-01-01 06:00:00<br/>                                to 1980-12-01 06:00:00<br/>                                                      <br/>Number of time steps                                12<br/>Time step interval                             29 days<br/>Time step alignment                                End<br/>                                                      <br/>First time step temporal bias                   44.83%<br/>First time step interval                         after<br/>                                   1979-12-19 06:00:00<br/>                                       to on or before<br/>                                   1980-01-17 06:00:00<br/>                                                      <br/>Last time step temporal bias                     0.00%<br/>Last time step interval                          after<br/>                                   1980-11-02 06:00:00<br/>                                       to on or before<br/>                                   1980-12-01 06:00:00<br/>                                                      <br/>Cube extent across space       (coordinates in meters)<br/>Min X                                   -13894065.6611<br/>Min Y                                     2708362.4449<br/>Max X                                    -7451448.3422<br/>Max Y                                     5478284.6852<br/><br/>Locations                  481631<br/>Total observations        5779572<br/><br/>-- Overall Data Trend - RANDOM_VARIABLE_NONE_ZEROS ---<br/>Trend direction                        Not Significant<br/>Trend statistic                                -0.0686<br/>Trend p-value                                   0.9453<br/><br/>Succeeded at Saturday, October 16, 2021 11:23:29 PM (Elapsed Time: 1 hours 3 minutes 20 seconds)<br/><style>.rendered_html td, .rendered_html th {text-align: left;}.rendered_html tbody {border: 1px solid black;}</style>"
      ],
      "text/plain": [
       "<Result 'D:\\\\Fall 2021\\\\ArcGIS1\\\\Labs\\\\Lab02\\\\Lab02_DNR_lidar\\\\Scratch_Space_lab02\\\\Spacecube_percip_12.nc'>"
      ]
     },
     "execution_count": 2,
     "metadata": {},
     "output_type": "execute_result"
    }
   ],
   "source": [
    "#converting the single layer to a SPACE CUBE\n",
    "arcpy.stpm.CreateSpaceTimeCubeMDRasterLayer(\"m_12_Precip_MultidimLayer\", r\"D:\\Fall 2021\\ArcGIS1\\Labs\\Lab02\\Lab02_DNR_lidar\\Scratch_Space_lab02\\Spacecube_percip_12.nc\", \"ZEROS\")"
   ]
  },
  {
   "cell_type": "code",
   "execution_count": null,
   "metadata": {},
   "outputs": [],
   "source": []
  }
 ],
 "metadata": {
  "kernelspec": {
   "display_name": "Python 3 (ipykernel)",
   "language": "python",
   "name": "python3"
  },
  "language_info": {
   "codemirror_mode": {
    "name": "ipython",
    "version": 3
   },
   "file_extension": ".py",
   "mimetype": "text/x-python",
   "name": "python",
   "nbconvert_exporter": "python",
   "pygments_lexer": "ipython3",
   "version": "3.7.10"
  }
 },
 "nbformat": 4,
 "nbformat_minor": 4
}
