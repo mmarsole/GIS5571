{
 "cells": [
  {
   "cell_type": "markdown",
   "metadata": {},
   "source": [
    "## Lab02 Part 2: Cost Surface Analysis\n",
    "\n",
    "* build an ETL to obtain relevant data (DEM and Land Classifcation from MNGEO)\n",
    "* Create Cost Surface Model\n",
    "* ? Map the range of Cost Surfaces given 'uncertain prefernces and weights'? --No Sure how to do..."
   ]
  },
  {
   "cell_type": "markdown",
   "metadata": {},
   "source": [
    "#### Downloading data from MNGEO (DEM, Land Classification, Streams)"
   ]
  },
  {
   "cell_type": "code",
   "execution_count": 1,
   "metadata": {},
   "outputs": [],
   "source": [
    "import requests\n",
    "import json\n",
    "import pprint\n",
    "import zipfile"
   ]
  },
  {
   "cell_type": "code",
   "execution_count": 12,
   "metadata": {},
   "outputs": [
    {
     "name": "stderr",
     "output_type": "stream",
     "text": [
      "C:\\Users\\runac\\AppData\\Local\\ESRI\\conda\\envs\\arcgispro-py3-Lab2_clone\\lib\\site-packages\\urllib3\\connectionpool.py:1020: InsecureRequestWarning: Unverified HTTPS request is being made to host 'gisdata.mn.gov'. Adding certificate verification is strongly advised. See: https://urllib3.readthedocs.io/en/1.26.x/advanced-usage.html#ssl-warnings\n",
      "  InsecureRequestWarning,\n",
      "C:\\Users\\runac\\AppData\\Local\\ESRI\\conda\\envs\\arcgispro-py3-Lab2_clone\\lib\\site-packages\\urllib3\\connectionpool.py:1020: InsecureRequestWarning: Unverified HTTPS request is being made to host 'gisdata.mn.gov'. Adding certificate verification is strongly advised. See: https://urllib3.readthedocs.io/en/1.26.x/advanced-usage.html#ssl-warnings\n",
      "  InsecureRequestWarning,\n"
     ]
    },
    {
     "name": "stdout",
     "output_type": "stream",
     "text": [
      "{'help': 'https://gisdata.mn.gov/api/3/action/help_show?name=group_list',\n",
      " 'result': ['biota',\n",
      "            'boundaries',\n",
      "            'climatology',\n",
      "            'economy',\n",
      "            'elevation',\n",
      "            'environment',\n",
      "            'farming',\n",
      "            'geoscientific',\n",
      "            'health',\n",
      "            'imagery-basemaps',\n",
      "            'inland-waters',\n",
      "            'intelligence-military',\n",
      "            'location',\n",
      "            'planning-cadastre',\n",
      "            'society',\n",
      "            'structure',\n",
      "            'transportation',\n",
      "            'utilities-communication'],\n",
      " 'success': True}\n"
     ]
    }
   ],
   "source": [
    "packages = \"https://gisdata.mn.gov/api/3/action/package_list\"\n",
    "groups = \"https://gisdata.mn.gov/api/3/action/group_list\"\n",
    "tags = \"https://gisdata.mn.gov/api/3/action/tag_list\"\n",
    "\n",
    "#I believe this locates all the tags within the MN geo commons (I am looking for 'biota' and 'boundary')\n",
    "response = requests.get(tags, auth = ('user','pass'), verify = False)\n",
    "# locate bu 'imagery-basemaps'\n",
    "response_1 = requests.get(groups, auth = ('user','pass'), verify = False)\n",
    "\n",
    "#converting the response from unreadable bytes to json\n",
    "tags_json = json.loads(response.content)\n",
    "\n",
    "tags_json_1 = json.loads(response_1.content)\n",
    "\n",
    "#list of all the tags from MN geo commons\n",
    "#pprint.pprint(tags_json_1)"
   ]
  },
  {
   "cell_type": "markdown",
   "metadata": {},
   "source": [
    "#### Extracting Land Cover file"
   ]
  },
  {
   "cell_type": "code",
   "execution_count": 9,
   "metadata": {
    "scrolled": true
   },
   "outputs": [
    {
     "name": "stderr",
     "output_type": "stream",
     "text": [
      "C:\\Program Files\\ArcGIS\\Pro\\bin\\Python\\envs\\arcgispro-py3\\lib\\site-packages\\urllib3\\connectionpool.py:1020: InsecureRequestWarning: Unverified HTTPS request is being made to host 'gisdata.mn.gov'. Adding certificate verification is strongly advised. See: https://urllib3.readthedocs.io/en/latest/advanced-usage.html#ssl-warnings\n",
      "  InsecureRequestWarning,\n"
     ]
    },
    {
     "name": "stdout",
     "output_type": "stream",
     "text": [
      "{'cache_last_updated': None,\n",
      " 'cache_url': None,\n",
      " 'created': '2020-07-09T08:14:39.151808',\n",
      " 'description': '',\n",
      " 'format': 'tif',\n",
      " 'gdrsResGuid': '{36089bbd-413d-48a2-9208-731e735b48e7}',\n",
      " 'hash': '',\n",
      " 'id': '139066ed-25df-43f5-b012-d0efce870cbf',\n",
      " 'last_modified': None,\n",
      " 'mimetype': None,\n",
      " 'mimetype_inner': None,\n",
      " 'name': 'TIFF Raster',\n",
      " 'package_id': '0fc569f0-2d29-40fd-82c0-ad68a1840f1e',\n",
      " 'position': 2,\n",
      " 'resource_type': 'tif',\n",
      " 'revision_id': '367cb423-ea25-4a57-9f7b-f97aee7e17d9',\n",
      " 'size': None,\n",
      " 'state': 'active',\n",
      " 'url': 'https://resources.gisdata.mn.gov/pub/gdrs/data/pub/edu_umn/base_landcover_minnesota/tif_base_landcover_minnesota.zip',\n",
      " 'url_type': None}\n"
     ]
    }
   ],
   "source": [
    "#I want \"Impervious Surface Area by Landsat & lidar:2013-update -version 2\" data labeled with the 'land cover' tag \n",
    "groups = 'imagery-basemaps'\n",
    "tag1 = \"impervious surface area\"\n",
    "tag2 = 'land cover'\n",
    "tag3 = 'landsat'\n",
    "tag4 = 'lidar'\n",
    "tag5 = 'object based image classification'\n",
    "base_url = \"http://gisdata.mn.gov/api/3/action/package_search?q=\"\n",
    "\n",
    "package_information_url = base_url + groups + tag1 + tag2\n",
    "\n",
    "#requesting all information associated with 'land cover' tag from MN Geo Commons\n",
    "package_information = requests.get(package_information_url, auth = ('user', 'pass'), verify = False)\n",
    "\n",
    "#converting all the information to a json dictionary\n",
    "package_dict = json.loads(package_information.content)\n",
    "#pprint.pprint(package_dict)\n",
    "\n",
    "package_dict_result = package_dict[\"result\"]['results']\n",
    "\n",
    "pprint.pprint(package_dict_result[0]['resources'][2])\n",
    "\n",
    "#ID to comfirm data\n",
    "#My raster ID: data-id=\"139066ed-25df-43f5-b012-d0efce870cbf\""
   ]
  },
  {
   "cell_type": "code",
   "execution_count": 10,
   "metadata": {},
   "outputs": [
    {
     "name": "stdout",
     "output_type": "stream",
     "text": [
      "extracting the content...\n"
     ]
    }
   ],
   "source": [
    "r = requests.get(package_dict_result[0]['resources'][2]['url'])\n",
    "open('tif_base_landcover_minnesota.zip', 'wb').write(r.content)\n",
    "print('extracting the content...')\n",
    "\n",
    "#unzipping the file and saving it to my desired local\n",
    "with zipfile.ZipFile('tif_base_landcover_minnesota.zip', 'r') as zip_ref:\n",
    "    zip_ref.extractall(\"E:/Fall 2021/ArcGIS1/Labs/Lab02/Lab02_CostSurface/MN_geo_data_pipeline\")"
   ]
  },
  {
   "cell_type": "markdown",
   "metadata": {},
   "source": [
    "#### Extracting DEM file"
   ]
  },
  {
   "cell_type": "code",
   "execution_count": 24,
   "metadata": {
    "scrolled": true
   },
   "outputs": [
    {
     "name": "stderr",
     "output_type": "stream",
     "text": [
      "C:\\Program Files\\ArcGIS\\Pro\\bin\\Python\\envs\\arcgispro-py3\\lib\\site-packages\\urllib3\\connectionpool.py:1020: InsecureRequestWarning: Unverified HTTPS request is being made to host 'gisdata.mn.gov'. Adding certificate verification is strongly advised. See: https://urllib3.readthedocs.io/en/latest/advanced-usage.html#ssl-warnings\n",
      "  InsecureRequestWarning,\n"
     ]
    },
    {
     "name": "stdout",
     "output_type": "stream",
     "text": [
      "extracting the content...\n"
     ]
    }
   ],
   "source": [
    "groups = 'elevation'\n",
    "tag1 = 'model'\n",
    "tag2 = 'slope'\n",
    "tag3 = 'elevation'\n",
    "base_url = \"http://gisdata.mn.gov/api/3/action/package_search?q=\"\n",
    "\n",
    "package_information_url = base_url + groups\n",
    "\n",
    "#requesting all information associated with 'elevation' tag from MN Geo Commons\n",
    "package_information = requests.get(package_information_url, auth = ('user', 'pass'), verify = False)\n",
    "\n",
    "#converting all the information to a json dictionary\n",
    "package_dict = json.loads(package_information.content)\n",
    "#pprint.pprint(package_dict)\n",
    "\n",
    "package_dict_result = package_dict[\"result\"]['results']\n",
    "\n",
    "#pprint.pprint(package_dict_result[3]['resources'][1])\n",
    "\n",
    "#ID to comfirm data\n",
    "#My geodatabase ID: 1c2f17f6-f7df-43de-9d96-03b49b867f77\n",
    "\n",
    "r = requests.get(package_dict_result[3]['resources'][1]['url'])\n",
    "open('fgdb_elev_30m_digital_elevation_model.zip', 'wb').write(r.content)\n",
    "print('extracting the content...')\n",
    "\n",
    "#unzipping the file and saving it to my desired local\n",
    "with zipfile.ZipFile('fgdb_elev_30m_digital_elevation_model.zip', 'r') as zip_ref:\n",
    "    zip_ref.extractall(\"E:/Fall 2021/ArcGIS1/Labs/Lab02/Lab02_CostSurface/MN_geo_data_pipeline\")"
   ]
  },
  {
   "cell_type": "markdown",
   "metadata": {},
   "source": [
    "#### extracting stream data"
   ]
  },
  {
   "cell_type": "code",
   "execution_count": 35,
   "metadata": {
    "scrolled": true
   },
   "outputs": [
    {
     "name": "stderr",
     "output_type": "stream",
     "text": [
      "C:\\Program Files\\ArcGIS\\Pro\\bin\\Python\\envs\\arcgispro-py3\\lib\\site-packages\\urllib3\\connectionpool.py:1020: InsecureRequestWarning: Unverified HTTPS request is being made to host 'gisdata.mn.gov'. Adding certificate verification is strongly advised. See: https://urllib3.readthedocs.io/en/latest/advanced-usage.html#ssl-warnings\n",
      "  InsecureRequestWarning,\n"
     ]
    },
    {
     "name": "stdout",
     "output_type": "stream",
     "text": [
      "extracting the content...\n",
      "Done!\n"
     ]
    }
   ],
   "source": [
    "groups = 'inland-waters'\n",
    "tag1 = 'dnr fisheries'\n",
    "tag2 = 'rivers'\n",
    "tag3 = 'stream survey'\n",
    "tag4 = 'streams'\n",
    "base_url = \"http://gisdata.mn.gov/api/3/action/package_search?q=\"\n",
    "\n",
    "package_information_url = base_url + groups + tag1\n",
    "\n",
    "#requesting all information associated with 'elevation' tag from MN Geo Commons\n",
    "package_information = requests.get(package_information_url, auth = ('user', 'pass'), verify = False)\n",
    "\n",
    "#converting all the information to a json dictionary\n",
    "package_dict = json.loads(package_information.content)\n",
    "#pprint.pprint(package_dict)\n",
    "\n",
    "package_dict_result = package_dict[\"result\"]['results']\n",
    "\n",
    "#pprint.pprint(package_dict_result[7]['resources'][1])\n",
    "#Shapefile ID: 0ad76fbd-452a-47b6-aa15-4a6cb49928ea\n",
    "\n",
    "r = requests.get(package_dict_result[7]['resources'][1]['url'])\n",
    "open('shp_water_measured_kittle_routes.zip', 'wb').write(r.content)\n",
    "print('extracting the content...')\n",
    "\n",
    "#unzipping the file and saving it to my desired local\n",
    "with zipfile.ZipFile('shp_water_measured_kittle_routes.zip', 'r') as zip_ref:\n",
    "    zip_ref.extractall(\"E:/Fall 2021/ArcGIS1/Labs/Lab02/Lab02_CostSurface/MN_geo_data_pipeline\")\n",
    "    \n",
    "print('Done!')"
   ]
  },
  {
   "cell_type": "markdown",
   "metadata": {},
   "source": [
    "## Cost Surface Model\n",
    "\n",
    "In the GUI:\n",
    "* cropped data to a smaller spatial extant (previously all statewide)\n",
    "* created a shapefile for two points (the start and end locations for Dory's walk)\n",
    "\n",
    "I made to new feature classes in th GUI interface of ArcPro, one creating the start and end points for Dory's walk, the other a rectangular extent used to cropped the statewide data down to a smaller size. "
   ]
  },
  {
   "cell_type": "code",
   "execution_count": 2,
   "metadata": {},
   "outputs": [
    {
     "data": {
      "text/plain": [
       "'D:\\\\Fall 2021\\\\ArcGIS1\\\\Labs\\\\Lab02\\\\Lab02_CostSurface'"
      ]
     },
     "execution_count": 2,
     "metadata": {},
     "output_type": "execute_result"
    }
   ],
   "source": [
    "%pwd"
   ]
  },
  {
   "cell_type": "code",
   "execution_count": 3,
   "metadata": {},
   "outputs": [
    {
     "data": {
      "text/html": [
       "<h2>Output</h2>D:\\Fall 2021\\ArcGIS1\\Labs\\Lab02\\Lab02_CostSurface\\Lab02_CostSurface.gdb\\Reclass_landcover_py1<h2>Messages</h2>Start Time: Tuesday, October 26, 2021 6:47:28 PM<br/>Succeeded at Tuesday, October 26, 2021 6:47:33 PM (Elapsed Time: 4.41 seconds)<br/><style>.rendered_html td, .rendered_html th {text-align: left;}.rendered_html tbody {border: 1px solid black;}</style>"
      ],
      "text/plain": [
       "<Result 'D:\\\\Fall 2021\\\\ArcGIS1\\\\Labs\\\\Lab02\\\\Lab02_CostSurface\\\\Lab02_CostSurface.gdb\\\\Reclass_landcover_py1'>"
      ]
     },
     "execution_count": 3,
     "metadata": {},
     "output_type": "execute_result"
    }
   ],
   "source": [
    "#Reclassifying land cover data to rescaled values between 1-10, \n",
    "    #where the higher the less desirable for walking\n",
    "\n",
    "arcpy.ddd.Reclassify(\"landcover_impervious_stat.tif\",\n",
    "                     \"Value\",\n",
    "                     \"1 100 2;101 8;102 8;103 10;104 9;105 1;106 1;107 1;108 1;109 9;110 9\",\n",
    "                     r\"D:\\Fall 2021\\ArcGIS1\\Labs\\Lab02\\Lab02_CostSurface\\Lab02_CostSurface.gdb\\Reclass_landcover_py1\",\n",
    "                     \"DATA\")\n",
    "\n",
    "#in this case I have decided Dory likes walkings in forested areas, roads (impervious surfaces), and managed grasslands\n",
    "# AND does NOT like walking in crop fields, rivers, or mines"
   ]
  },
  {
   "cell_type": "code",
   "execution_count": 4,
   "metadata": {},
   "outputs": [],
   "source": [
    "#convert raster elevation values to slope values :\n",
    "\n",
    "#Distance acculmulation for slope (binary function, i decided Dory will walk anything with a slope bewteen -10 and 10, this is what i consider gradual)\n",
    "out_distance_accumulation_raster = arcpy.sa.DistanceAccumulation(\"Start\", \n",
    "                                                                 None, \n",
    "                                                                 \"Clipped_DEM.tif\", \n",
    "                                                                 None, \"Clipped_DEM.tif\", \n",
    "                                                                 \"BINARY 1 -10 10\", \n",
    "                                                                 None, \n",
    "                                                                 \"BINARY 1 45\", \n",
    "                                                                 r\"D:\\Fall 2021\\ArcGIS1\\Labs\\Lab02\\Lab02_CostSurface\\Lab02_CostSurface.gdb\\Out_back_dir__surface_py1\", \n",
    "                                                                 None, \n",
    "                                                                 None, \n",
    "                                                                 None, \n",
    "                                                                 None, \n",
    "                                                                 None, \n",
    "                                                                 '', \n",
    "                                                                 \"PLANAR\"); out_distance_accumulation_raster.save(r\"D:\\Fall 2021\\ArcGIS1\\Labs\\Lab02\\Lab02_CostSurface\\Lab02_CostSurface.gdb\\Distance_Slope_surface_py1\")\n",
    "\n",
    "#rescaling \"Distance_start0\" between values 1-10\n",
    "#chose the MSSMALL because we favor mor gradual slope values\n",
    "out_raster = arcpy.sa.RescaleByFunction(\"Distance_Slope_surface_py1\", \n",
    "                                        \"MSSMALL 1 1 # # # #\", \n",
    "                                        1, \n",
    "                                        10); out_raster.save(r\"D:\\Fall 2021\\ArcGIS1\\Labs\\Lab02\\Lab02_CostSurface\\Lab02_CostSurface.gdb\\Rescale_Dist_slope_small\")"
   ]
  },
  {
   "cell_type": "markdown",
   "metadata": {},
   "source": [
    "#### Optimal path based only on slope"
   ]
  },
  {
   "cell_type": "code",
   "execution_count": 5,
   "metadata": {},
   "outputs": [
    {
     "data": {
      "text/plain": [
       "<geoprocessing server result object object at 0x0000018ED14F0440>"
      ]
     },
     "execution_count": 5,
     "metadata": {},
     "output_type": "execute_result"
    }
   ],
   "source": [
    "#Optimal Path (makes a path based only on slope)\n",
    "arcpy.sa.OptimalPathAsLine(\"End\", \n",
    "                           \"Distance_Slope_surface_py1\", \n",
    "                           \"Out_back_dir__surface_py1\", \n",
    "                           r\"D:\\Fall 2021\\ArcGIS1\\Labs\\Lab02\\Lab02_CostSurface\\Lab02_CostSurface.gdb\\Optimal_Path_slope_py1\", \n",
    "                           \"Id\", \n",
    "                           \"EACH_ZONE\")\n",
    "\n",
    "#This path is not ideal, since it doesn't consider Dory's perfernce for land cover type, thus try Optimal Regional connections next"
   ]
  },
  {
   "cell_type": "markdown",
   "metadata": {},
   "source": [
    "#### Optimal path based on both landcover and slope"
   ]
  },
  {
   "cell_type": "code",
   "execution_count": 6,
   "metadata": {},
   "outputs": [],
   "source": [
    "#COST SURFACE(based on the previous outcomes landcover reclassified, and slope distance acculmulation) equal weights\n",
    "out_raster = arcpy.ia.WeightedSum(\"Rescale_Dist_slope_small VALUE 1;Reclass_landcover_py1 Value 1\"); out_raster.save(r\"D:\\Fall 2021\\ArcGIS1\\Labs\\Lab02\\Lab02_CostSurface\\Lab02_CostSurface.gdb\\Cost_surface_py1\")"
   ]
  },
  {
   "cell_type": "code",
   "execution_count": 7,
   "metadata": {},
   "outputs": [
    {
     "data": {
      "text/plain": [
       "<geoprocessing server result object object at 0x0000018ED14F0E18>"
      ]
     },
     "execution_count": 7,
     "metadata": {},
     "output_type": "execute_result"
    }
   ],
   "source": [
    "# using Optimal regional Connections to find an optimal path (considers the cost surface wich is based on land cover and slope)\n",
    "arcpy.sa.OptimalRegionConnections(\"Start_End_points\", \n",
    "                                  r\"D:\\Fall 2021\\ArcGIS1\\Labs\\Lab02\\Lab02_CostSurface\\Lab02_CostSurface.gdb\\Optimal_path_equal_weights_py1\",\n",
    "                                  None, \n",
    "                                  \"Cost_surface_py1\", \n",
    "                                  None, \n",
    "                                  \"PLANAR\", \n",
    "                                  \"GENERATE_CONNECTIONS\")"
   ]
  },
  {
   "cell_type": "markdown",
   "metadata": {},
   "source": [
    "#### Optimal path favoring landcover more than slope"
   ]
  },
  {
   "cell_type": "code",
   "execution_count": 8,
   "metadata": {},
   "outputs": [],
   "source": [
    "#COST SURFACE(based on the previous outcomes landcover reclassified, and slope distance acculmulation) favors land cover type for weights\n",
    "out_raster = arcpy.ia.WeightedSum(\"Rescale_Dist_slope_small VALUE 1;Reclass_landcover_py1 Value 5\"); out_raster.save(r\"D:\\Fall 2021\\ArcGIS1\\Labs\\Lab02\\Lab02_CostSurface\\Lab02_CostSurface.gdb\\Cost_surface_py2\")"
   ]
  },
  {
   "cell_type": "code",
   "execution_count": 9,
   "metadata": {},
   "outputs": [
    {
     "data": {
      "text/plain": [
       "<geoprocessing server result object object at 0x0000018ED14F0D00>"
      ]
     },
     "execution_count": 9,
     "metadata": {},
     "output_type": "execute_result"
    }
   ],
   "source": [
    "# using Optimal regional Connections to find an optimal path (considers the cost surface wich is based on land cover and slope)\n",
    "arcpy.sa.OptimalRegionConnections(\"Start_End_points\", \n",
    "                                  r\"D:\\Fall 2021\\ArcGIS1\\Labs\\Lab02\\Lab02_CostSurface\\Lab02_CostSurface.gdb\\Optimal_path_favored_weights_py1\",\n",
    "                                  None, \n",
    "                                  \"Cost_surface_py2\", \n",
    "                                  None, \n",
    "                                  \"PLANAR\", \n",
    "                                  \"GENERATE_CONNECTIONS\")"
   ]
  },
  {
   "cell_type": "markdown",
   "metadata": {},
   "source": [
    "I tried inserting streams as a barrier but the resulting path was imposssible to construct. Thus, I have not considered streams as a seperate input (it is used only during the landcover prefernces portions), and as a result most of my paths force Dory to cross streams multiple times."
   ]
  },
  {
   "cell_type": "code",
   "execution_count": null,
   "metadata": {},
   "outputs": [],
   "source": []
  }
 ],
 "metadata": {
  "kernelspec": {
   "display_name": "ArcGISPro",
   "language": "Python",
   "name": "python3"
  },
  "language_info": {
   "file_extension": ".py",
   "name": "python",
   "version": "3"
  }
 },
 "nbformat": 4,
 "nbformat_minor": 2
}
